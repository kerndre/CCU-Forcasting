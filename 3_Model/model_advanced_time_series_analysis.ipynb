{
  "cells": [
    {
      "cell_type": "markdown",
      "metadata": {
        "id": "view-in-github",
        "colab_type": "text"
      },
      "source": [
        "<a href=\"https://colab.research.google.com/github/kerndre/CCU-Forcasting/blob/main/3_Model/model_advanced_time_series_analysis.ipynb\" target=\"_parent\"><img src=\"https://colab.research.google.com/assets/colab-badge.svg\" alt=\"Open In Colab\"/></a>"
      ]
    },
    {
      "cell_type": "markdown",
      "metadata": {
        "id": "IH2MkDi9U_ju"
      },
      "source": [
        "---\n",
        "---\n",
        "---\n",
        "#Setup\n"
      ]
    },
    {
      "cell_type": "markdown",
      "metadata": {
        "id": "AXx7VTKzpLrs"
      },
      "source": [
        "## Imports"
      ]
    },
    {
      "cell_type": "code",
      "execution_count": 33,
      "metadata": {
        "id": "mt1HHsY0U4wp"
      },
      "outputs": [],
      "source": [
        "# Import necessary libraries from Google Colab\n",
        "from google.colab import drive\n",
        "from google.colab import userdata\n",
        "import os  # Provides a way of using operating system dependent functionality\n",
        "\n",
        "# Libraries for handling data formats and compression\n",
        "import json  # Library for parsing JSON (JavaScript Object Notation) data\n",
        "\n",
        "# Libraries for data manipulation and numerical operations\n",
        "import numpy as np  # Library for numerical operations\n",
        "import pandas as pd  # Library for data manipulation and analysis\n",
        "from functools import reduce  # Higher-order function for functional programming\n",
        "import random  # Library for generating random numbers\n",
        "\n",
        "# Library for plotting graphs\n",
        "import matplotlib.pyplot as plt\n",
        "\n",
        "# Libraries for machine learning models and data preprocessing\n",
        "from sklearn.preprocessing import StandardScaler  # Standardize features by removing the mean and scaling to unit variance\n",
        "from xgboost import XGBRegressor  # XGBoost regressor\n",
        "from lightgbm import LGBMRegressor  # LightGBM regressor\n",
        "from sklearn.model_selection import train_test_split, TimeSeriesSplit, GridSearchCV, cross_val_score  # Tools for splitting datasets, time series split, parameter tuning, and cross-validation\n",
        "from sklearn.metrics import mean_absolute_error, mean_squared_error, r2_score, explained_variance_score  # Performance metrics\n",
        "\n",
        "# Suppress warnings\n",
        "import warnings\n",
        "warnings.filterwarnings('ignore')  # Ignore warnings\n",
        "\n",
        "# Set a fixed seed for reproducibility\n",
        "random.seed(42)\n"
      ]
    },
    {
      "cell_type": "markdown",
      "metadata": {
        "id": "GZeqwyJImsdK"
      },
      "source": [
        "## Connecting to Drive"
      ]
    },
    {
      "cell_type": "code",
      "source": [
        "# data path\n",
        "data_path = '/content/drive/MyDrive/'"
      ],
      "metadata": {
        "id": "jLYNA714mkaJ"
      },
      "execution_count": 34,
      "outputs": []
    },
    {
      "cell_type": "code",
      "execution_count": 35,
      "metadata": {
        "id": "ht9SxUN2F7f1",
        "colab": {
          "base_uri": "https://localhost:8080/"
        },
        "outputId": "71891dad-05de-4b85-8973-a7bf7fcaca58"
      },
      "outputs": [
        {
          "output_type": "stream",
          "name": "stdout",
          "text": [
            "Mounted at /content/drive\n"
          ]
        }
      ],
      "source": [
        "# Flushes the mounts, ensuring that all changes are written and the drive is safely unmounted\n",
        "drive.flush_and_unmount()\n",
        "\n",
        "# Mount the Google Drive to the specified path\n",
        "drive.mount('/content/drive')\n",
        "\n",
        "# Change the current working directory to the specified data path\n",
        "os.chdir(data_path)"
      ]
    },
    {
      "cell_type": "markdown",
      "metadata": {
        "id": "hTVqIiXZnrmd"
      },
      "source": [
        "## Functions"
      ]
    },
    {
      "cell_type": "code",
      "execution_count": 36,
      "metadata": {
        "id": "h0QbSRkIa8Vc"
      },
      "outputs": [],
      "source": [
        "# Function to categorize the time of day based on the hour\n",
        "def categorize_daytime(hour):\n",
        "    # Check if the hour falls between 0 and 3 (inclusive) and return 'nachts'\n",
        "    if 0 <= hour < 3:\n",
        "        return 'nachts'\n",
        "    # Check if the hour falls between 3 and 6 (inclusive) and return 'frühmorgens'\n",
        "    elif 3 <= hour < 6:\n",
        "        return 'frühmorgens'\n",
        "    # Check if the hour falls between 6 and 9 (inclusive) and return 'morgens'\n",
        "    elif 6 <= hour < 9:\n",
        "        return 'morgens'\n",
        "    # Check if the hour falls between 9 and 12 (inclusive) and return 'vormittags'\n",
        "    elif 9 <= hour < 12:\n",
        "        return 'vormittags'\n",
        "    # Check if the hour falls between 12 and 15 (inclusive) and return 'nachmittags'\n",
        "    elif 12 <= hour < 15:\n",
        "        return 'nachmittags'\n",
        "    # Check if the hour falls between 15 and 18 (inclusive) and return 'spätnachmittags'\n",
        "    elif 15 <= hour < 18:\n",
        "        return 'spätnachmittags'\n",
        "    # Check if the hour falls between 18 and 21 (inclusive) and return 'abends'\n",
        "    elif 18 <= hour < 21:\n",
        "        return 'abends'\n",
        "    # For any other hour (21 to 24), return 'spätabends'\n",
        "    else:\n",
        "        return 'spätabends'\n"
      ]
    },
    {
      "cell_type": "code",
      "execution_count": 37,
      "metadata": {
        "id": "7UfICwUhyDAx"
      },
      "outputs": [],
      "source": [
        "# Function to create a DataFrame for model evaluation metrics\n",
        "def create_evaluation_df(model_name, target, features, mse, mae, r2, explained_variance):\n",
        "    # Create a dictionary with the evaluation metrics\n",
        "    data = {\n",
        "        'modelname': [model_name],             # Model name\n",
        "        'target': [target],                    # Target variable\n",
        "        'features': [features],                # List of features used\n",
        "        'mse': [mse],                          # Mean Squared Error\n",
        "        'mae': [mae],                          # Mean Absolute Error\n",
        "        'r2': [r2],                            # R-squared value\n",
        "        'explained_variance': [explained_variance]  # Explained Variance Score\n",
        "    }\n",
        "\n",
        "    # Convert the dictionary to a pandas DataFrame\n",
        "    evaluation_df = pd.DataFrame(data)\n",
        "    # Return the DataFrame\n",
        "    return evaluation_df\n"
      ]
    },
    {
      "cell_type": "markdown",
      "metadata": {
        "id": "9JPgmBzoVmZl"
      },
      "source": [
        "---\n",
        "---\n",
        "# **Models**\n"
      ]
    },
    {
      "cell_type": "markdown",
      "source": [
        "The models used to analyze the data are **XGBoost Regressor** and **LightGBM Regressor**.\n",
        "\n",
        "XGBoost and LightGBM are popular machine learning algorithms used for various predictive modeling tasks, including time series forecasting. Here are several reasons why these algorithms are suitable for time series data:\n",
        "\n",
        "1. Handling Non-linearity:\n",
        "Both XGBoost and LightGBM are gradient boosting algorithms that can model complex, non-linear relationships in the data. Time series data often exhibit non-linear patterns, such as seasonal trends, that simple linear models cannot capture effectively.\n",
        "\n",
        "2. Feature Engineering:\n",
        "These algorithms allow for extensive feature engineering, which is crucial in time series forecasting. By creating lag features, rolling statistics, and other time-based features, these models can leverage historical data effectively to make accurate predictions.\n",
        "\n",
        "3. Speed and Efficiency:\n",
        "LightGBM, in particular, is known for its efficiency and speed. It can handle large datasets with high dimensionality and complex interactions quickly, making it suitable for time series datasets that often contain numerous observations.\n",
        "\n",
        "4. Regularization Techniques:\n",
        "Both algorithms include built-in regularization techniques to prevent overfitting. This is particularly important in time series forecasting, where overfitting to historical data can lead to poor generalization on future data.\n",
        "\n",
        "5. Ensemble Learning:\n",
        "As ensemble methods, XGBoost and LightGBM combine the predictions of multiple weak learners (usually decision trees) to produce a more accurate and robust model. This ensemble approach can improve the predictive performance compared to single models.\n",
        "\n",
        "6. Handling High Dimensional Data:\n",
        "Time series data can become high-dimensional when including multiple features, such as lag values, moving averages, and other derived features. XGBoost and LightGBM are designed to handle high-dimensional data efficiently."
      ],
      "metadata": {
        "id": "jfJtSh-DiKcP"
      }
    },
    {
      "cell_type": "markdown",
      "metadata": {
        "id": "kR98BEbxFVM7"
      },
      "source": [
        "---\n",
        "## Loading"
      ]
    },
    {
      "cell_type": "code",
      "source": [
        "# Set the loading version number\n",
        "LOADING_VERSIONSNUMMER = 'v1.1'\n",
        "\n",
        "# Retrieve the path to the project data using userdata\n",
        "LOADING_PATH = userdata.get('ts_project_data_path')\n",
        "\n",
        "# Define the name of the DataFrame file to be loaded\n",
        "LOADING_DF_NAME = f'df_ts_ccu_{LOADING_VERSIONSNUMMER}'\n",
        "\n",
        "# Define the name of the JSON file that contains the data types of the DataFrame\n",
        "LOADING_DTYPES_DF_NAME = 'dtypes_' + LOADING_DF_NAME\n"
      ],
      "metadata": {
        "id": "JFG2zMVF2q_d"
      },
      "execution_count": 38,
      "outputs": []
    },
    {
      "cell_type": "code",
      "source": [
        "# Load the dtypes (data types) from a JSON file\n",
        "\n",
        "# Construct the full path to the JSON file containing the dtypes\n",
        "dtypes_file_path = LOADING_PATH + '/' + LOADING_DTYPES_DF_NAME + '.json'\n",
        "\n",
        "# Open the JSON file in read mode\n",
        "with open(dtypes_file_path, 'r') as f:\n",
        "    # Load the JSON content into a dictionary\n",
        "    dtypes = json.load(f)\n"
      ],
      "metadata": {
        "id": "qOB7GM3EqdAV"
      },
      "execution_count": 39,
      "outputs": []
    },
    {
      "cell_type": "code",
      "source": [
        "# Load the DataFrame from a CSV file\n",
        "df_sl = pd.read_csv(\n",
        "    LOADING_PATH + '/' + LOADING_DF_NAME + '.csv',  # Construct the full path to the CSV file\n",
        "    dtype=dtypes,                                  # Specify the data types for each column\n",
        "    parse_dates=['timestamp']                      # Tell pandas to parse the 'timestamp' column as dates\n",
        ")\n"
      ],
      "metadata": {
        "id": "KTJg5k9xqpyB"
      },
      "execution_count": 40,
      "outputs": []
    },
    {
      "cell_type": "markdown",
      "metadata": {
        "id": "Z0gQ6HATHj-4"
      },
      "source": [
        "---\n"
      ]
    },
    {
      "cell_type": "code",
      "execution_count": 41,
      "metadata": {
        "colab": {
          "base_uri": "https://localhost:8080/"
        },
        "outputId": "ec6e5609-3abf-4334-a941-ad96823045be",
        "id": "qBafPAuyHj-5"
      },
      "outputs": [
        {
          "output_type": "execute_result",
          "data": {
            "text/plain": [
              "(5270376, 4)"
            ]
          },
          "metadata": {},
          "execution_count": 41
        }
      ],
      "source": [
        "# shape of df\n",
        "df_sl.shape"
      ]
    },
    {
      "cell_type": "code",
      "execution_count": 42,
      "metadata": {
        "colab": {
          "base_uri": "https://localhost:8080/",
          "height": 206
        },
        "outputId": "ef210c1c-b13c-4a5c-dd0d-95e811b5caf5",
        "id": "2sCMLb3NHj-5"
      },
      "outputs": [
        {
          "output_type": "execute_result",
          "data": {
            "text/plain": [
              "<pandas.io.formats.style.Styler at 0x7849cca72c20>"
            ],
            "text/html": [
              "<style type=\"text/css\">\n",
              "</style>\n",
              "<table id=\"T_1f61b\" class=\"dataframe\">\n",
              "  <thead>\n",
              "    <tr>\n",
              "      <th class=\"blank level0\" >&nbsp;</th>\n",
              "      <th id=\"T_1f61b_level0_col0\" class=\"col_heading level0 col0\" >timestamp</th>\n",
              "      <th id=\"T_1f61b_level0_col1\" class=\"col_heading level0 col1\" >abs_ended_sessions</th>\n",
              "      <th id=\"T_1f61b_level0_col2\" class=\"col_heading level0 col2\" >mean_duration_end</th>\n",
              "      <th id=\"T_1f61b_level0_col3\" class=\"col_heading level0 col3\" >concurrent_sessions</th>\n",
              "    </tr>\n",
              "  </thead>\n",
              "  <tbody>\n",
              "    <tr>\n",
              "      <th id=\"T_1f61b_level0_row0\" class=\"row_heading level0 row0\" >0</th>\n",
              "      <td id=\"T_1f61b_row0_col0\" class=\"data row0 col0\" >2024-03-01 00:00:12</td>\n",
              "      <td id=\"T_1f61b_row0_col1\" class=\"data row0 col1\" >0</td>\n",
              "      <td id=\"T_1f61b_row0_col2\" class=\"data row0 col2\" >0</td>\n",
              "      <td id=\"T_1f61b_row0_col3\" class=\"data row0 col3\" >603</td>\n",
              "    </tr>\n",
              "    <tr>\n",
              "      <th id=\"T_1f61b_level0_row1\" class=\"row_heading level0 row1\" >1</th>\n",
              "      <td id=\"T_1f61b_row1_col0\" class=\"data row1 col0\" >2024-03-01 00:00:13</td>\n",
              "      <td id=\"T_1f61b_row1_col1\" class=\"data row1 col1\" >0</td>\n",
              "      <td id=\"T_1f61b_row1_col2\" class=\"data row1 col2\" >0</td>\n",
              "      <td id=\"T_1f61b_row1_col3\" class=\"data row1 col3\" >603</td>\n",
              "    </tr>\n",
              "    <tr>\n",
              "      <th id=\"T_1f61b_level0_row2\" class=\"row_heading level0 row2\" >2</th>\n",
              "      <td id=\"T_1f61b_row2_col0\" class=\"data row2 col0\" >2024-03-01 00:00:14</td>\n",
              "      <td id=\"T_1f61b_row2_col1\" class=\"data row2 col1\" >0</td>\n",
              "      <td id=\"T_1f61b_row2_col2\" class=\"data row2 col2\" >0</td>\n",
              "      <td id=\"T_1f61b_row2_col3\" class=\"data row2 col3\" >603</td>\n",
              "    </tr>\n",
              "    <tr>\n",
              "      <th id=\"T_1f61b_level0_row3\" class=\"row_heading level0 row3\" >3</th>\n",
              "      <td id=\"T_1f61b_row3_col0\" class=\"data row3 col0\" >2024-03-01 00:00:15</td>\n",
              "      <td id=\"T_1f61b_row3_col1\" class=\"data row3 col1\" >0</td>\n",
              "      <td id=\"T_1f61b_row3_col2\" class=\"data row3 col2\" >0</td>\n",
              "      <td id=\"T_1f61b_row3_col3\" class=\"data row3 col3\" >603</td>\n",
              "    </tr>\n",
              "    <tr>\n",
              "      <th id=\"T_1f61b_level0_row4\" class=\"row_heading level0 row4\" >4</th>\n",
              "      <td id=\"T_1f61b_row4_col0\" class=\"data row4 col0\" >2024-03-01 00:00:16</td>\n",
              "      <td id=\"T_1f61b_row4_col1\" class=\"data row4 col1\" >0</td>\n",
              "      <td id=\"T_1f61b_row4_col2\" class=\"data row4 col2\" >0</td>\n",
              "      <td id=\"T_1f61b_row4_col3\" class=\"data row4 col3\" >603</td>\n",
              "    </tr>\n",
              "  </tbody>\n",
              "</table>\n"
            ]
          },
          "metadata": {},
          "execution_count": 42
        }
      ],
      "source": [
        "# head of df\n",
        "df_sl.head().style"
      ]
    },
    {
      "cell_type": "code",
      "execution_count": 43,
      "metadata": {
        "colab": {
          "base_uri": "https://localhost:8080/"
        },
        "outputId": "dbc1e4de-153f-4861-c01c-43df45c1706a",
        "id": "r6ACt9C8Hj-5"
      },
      "outputs": [
        {
          "output_type": "execute_result",
          "data": {
            "text/plain": [
              "(0, 5270375)"
            ]
          },
          "metadata": {},
          "execution_count": 43
        }
      ],
      "source": [
        "# first and last date\n",
        "df_sl.index.min(), df_sl.index.max()"
      ]
    },
    {
      "cell_type": "code",
      "execution_count": 44,
      "metadata": {
        "colab": {
          "base_uri": "https://localhost:8080/"
        },
        "outputId": "6b0fa13d-b722-4430-b87f-b530c319358f",
        "id": "zO3Iy1OXHj-5"
      },
      "outputs": [
        {
          "output_type": "stream",
          "name": "stdout",
          "text": [
            "<class 'pandas.core.frame.DataFrame'>\n",
            "RangeIndex: 5270376 entries, 0 to 5270375\n",
            "Data columns (total 4 columns):\n",
            " #   Column               Dtype         \n",
            "---  ------               -----         \n",
            " 0   timestamp            datetime64[ns]\n",
            " 1   abs_ended_sessions   int64         \n",
            " 2   mean_duration_end    object        \n",
            " 3   concurrent_sessions  int64         \n",
            "dtypes: datetime64[ns](1), int64(2), object(1)\n",
            "memory usage: 160.8+ MB\n"
          ]
        }
      ],
      "source": [
        "df_sl.info()"
      ]
    },
    {
      "cell_type": "code",
      "execution_count": 45,
      "metadata": {
        "colab": {
          "base_uri": "https://localhost:8080/"
        },
        "outputId": "79dfeda7-464c-4590-c84c-d1eda640eabe",
        "id": "qVT1UbzHHj-6"
      },
      "outputs": [
        {
          "output_type": "execute_result",
          "data": {
            "text/plain": [
              "timestamp              0\n",
              "abs_ended_sessions     0\n",
              "mean_duration_end      0\n",
              "concurrent_sessions    0\n",
              "dtype: int64"
            ]
          },
          "metadata": {},
          "execution_count": 45
        }
      ],
      "source": [
        "# checking nan values\n",
        "df_sl.isna().sum()"
      ]
    },
    {
      "cell_type": "markdown",
      "metadata": {
        "id": "xkmKoq36Hj-6"
      },
      "source": [
        "---\n",
        "## Feature Engineering"
      ]
    },
    {
      "cell_type": "markdown",
      "source": [
        "In parallel to the hypothesis of the baseline model that, due to their repetitive pattern, concurrent sessions can be predicted using the previous week's values, the models test a similar approach. They also incorporate the temporal component by looking at features that arise from the dissected timestamp to identify recurring patterns in the minute, hour, day and week structures."
      ],
      "metadata": {
        "id": "rPL8BR9uk95V"
      }
    },
    {
      "cell_type": "code",
      "execution_count": 46,
      "metadata": {
        "id": "yL5hMoVaHj-6"
      },
      "outputs": [],
      "source": [
        "# copy df_sl\n",
        "df_ts = df_sl.copy()"
      ]
    },
    {
      "cell_type": "markdown",
      "metadata": {
        "id": "4jsTKGblCI5X"
      },
      "source": [
        "### Split timestamp into several time features\n"
      ]
    },
    {
      "cell_type": "code",
      "execution_count": 47,
      "metadata": {
        "id": "9Jpuwwvi6Kuy"
      },
      "outputs": [],
      "source": [
        "# Extract and categorize the year from the timestamp column\n",
        "df_ts['year'] = pd.Categorical(df_ts.timestamp.dt.year, ordered=True)\n",
        "\n",
        "# Extract and categorize the month from the timestamp column\n",
        "df_ts['month'] = pd.Categorical(df_ts.timestamp.dt.month, ordered=True)\n",
        "\n",
        "# Extract and categorize the week of the year from the timestamp column\n",
        "df_ts['week'] = pd.Categorical(df_ts['timestamp'].dt.isocalendar().week, ordered=True)\n",
        "\n",
        "# Extract and categorize the hour from the timestamp column\n",
        "df_ts['hour'] = pd.Categorical(df_ts.timestamp.dt.hour, ordered=True)\n",
        "\n",
        "# Extract and categorize the minute from the timestamp column\n",
        "df_ts['minute'] = pd.Categorical(df_ts.timestamp.dt.minute, ordered=True)\n",
        "\n",
        "# Extract and categorize the second from the timestamp column\n",
        "df_ts['second'] = pd.Categorical(df_ts.timestamp.dt.second, ordered=True)"
      ]
    },
    {
      "cell_type": "code",
      "execution_count": 48,
      "metadata": {
        "id": "Xo045JwqBzoK"
      },
      "outputs": [],
      "source": [
        "# Convert the day of the week to a categorical variable, with Monday as day 1 and the rest of the week ordered accordingly\n",
        "df_ts['day_week'] = pd.Categorical(\n",
        "    df_ts.timestamp.dt.weekday + 1,  # Get the weekday (Monday=0, ..., Sunday=6) and add 1 to make Monday=1, ..., Sunday=7\n",
        "    categories=[1, 2, 3, 4, 5, 6, 7],  # Explicit category order for days of the week\n",
        "    ordered=True  # Ensure the categories are treated as an ordered categorical variable\n",
        ")"
      ]
    },
    {
      "cell_type": "code",
      "execution_count": 49,
      "metadata": {
        "id": "MZs-oTlWB5w2"
      },
      "outputs": [],
      "source": [
        "# create feature day of the month based on time stamp\n",
        "df_ts['day_month'] = pd.Categorical(df_ts.timestamp.dt.weekday, ordered=True)"
      ]
    },
    {
      "cell_type": "markdown",
      "metadata": {
        "id": "f5PkaizKDEV0"
      },
      "source": [
        "###### creating an order for day names, month names and daytimes\n"
      ]
    },
    {
      "cell_type": "code",
      "execution_count": 50,
      "metadata": {
        "id": "-CVaoK7LDBBj"
      },
      "outputs": [],
      "source": [
        "# List of daytimes in German\n",
        "daytimes = ['nachts', 'frühmorgens', 'morgens', 'vormittags', 'nachmittags', 'spätnachmittags', 'abends', 'spätabends']\n",
        "\n",
        "# Create a mapping from daytime names to numeric values (e.g., 'nachts' -> 1, 'frühmorgens' -> 2, etc.)\n",
        "daytime_mapping = {name: i + 1 for i, name in enumerate(daytimes)}\n",
        "\n",
        "# Apply the categorize_daytime function to the hour extracted from the timestamp and create a categorical variable\n",
        "df_ts['daytime_name'] = pd.Categorical(\n",
        "    df_ts['timestamp'].dt.hour.apply(categorize_daytime),  # Categorize the hour of the day\n",
        "    categories=daytimes,  # Use the predefined order of daytimes\n",
        "    ordered=True  # Ensure the categories are treated as an ordered categorical variable\n",
        ")\n",
        "\n",
        "# Create the 'daytime' feature with numeric values using the daytime_mapping dictionary\n",
        "df_ts['daytime'] = df_ts['daytime_name'].map(daytime_mapping)  # Map categorical daytime names to their numeric values"
      ]
    },
    {
      "cell_type": "code",
      "execution_count": 51,
      "metadata": {
        "id": "Uew0oMtzA1JQ"
      },
      "outputs": [],
      "source": [
        "# drop column\n",
        "df_ts.drop(columns=['daytime_name'], inplace=True)"
      ]
    },
    {
      "cell_type": "markdown",
      "source": [
        "### Lagged Values"
      ],
      "metadata": {
        "id": "qljmDxT7P9fC"
      }
    },
    {
      "cell_type": "code",
      "source": [
        "# set timestamp as index\n",
        "df_ts.set_index('timestamp', inplace=True)"
      ],
      "metadata": {
        "id": "6B4Izbx_Qaii"
      },
      "execution_count": 52,
      "outputs": []
    },
    {
      "cell_type": "code",
      "execution_count": 53,
      "metadata": {
        "id": "momezsAnHj-6"
      },
      "outputs": [],
      "source": [
        "# Shift the 'concurrent_sessions' column by 7 days to create a new column 'concurrent_sessions_7D'\n",
        "# This represents the number of concurrent sessions exactly 7 days prior to the current timestamp\n",
        "df_ts['concurrent_sessions_7D'] = df_ts.concurrent_sessions.shift(7, freq='D')"
      ]
    },
    {
      "cell_type": "code",
      "execution_count": 54,
      "metadata": {
        "id": "zFdB2ptTHj-7"
      },
      "outputs": [],
      "source": [
        "# drop NAs which that arose when creating the lagged values\n",
        "# Means that the first week of data is omitted as there is no data from a previous week\n",
        "df_tsa = df_ts.dropna()"
      ]
    },
    {
      "cell_type": "code",
      "execution_count": 55,
      "metadata": {
        "colab": {
          "base_uri": "https://localhost:8080/"
        },
        "outputId": "5264d662-b33a-4d8f-ca92-c5c7d5649396",
        "id": "qKsjqdJqHj-7"
      },
      "outputs": [
        {
          "output_type": "execute_result",
          "data": {
            "text/plain": [
              "abs_ended_sessions        0\n",
              "mean_duration_end         0\n",
              "concurrent_sessions       0\n",
              "year                      0\n",
              "month                     0\n",
              "week                      0\n",
              "hour                      0\n",
              "minute                    0\n",
              "second                    0\n",
              "day_week                  0\n",
              "day_month                 0\n",
              "daytime                   0\n",
              "concurrent_sessions_7D    0\n",
              "dtype: int64"
            ]
          },
          "metadata": {},
          "execution_count": 55
        }
      ],
      "source": [
        "df_tsa.isna().sum()"
      ]
    },
    {
      "cell_type": "markdown",
      "metadata": {
        "id": "Wsbk9uM6NEIM"
      },
      "source": [
        "### Setting Dtypes"
      ]
    },
    {
      "cell_type": "code",
      "execution_count": 56,
      "metadata": {
        "colab": {
          "base_uri": "https://localhost:8080/"
        },
        "id": "Rsy6tYYKMT4P",
        "outputId": "3bc89d59-1262-412f-fe0d-0b465ba4ae91"
      },
      "outputs": [
        {
          "output_type": "stream",
          "name": "stdout",
          "text": [
            "<class 'pandas.core.frame.DataFrame'>\n",
            "DatetimeIndex: 4665564 entries, 2024-03-08 00:00:12 to 2024-04-30 23:59:59\n",
            "Data columns (total 13 columns):\n",
            " #   Column                  Dtype   \n",
            "---  ------                  -----   \n",
            " 0   abs_ended_sessions      int64   \n",
            " 1   mean_duration_end       object  \n",
            " 2   concurrent_sessions     int64   \n",
            " 3   year                    category\n",
            " 4   month                   category\n",
            " 5   week                    category\n",
            " 6   hour                    category\n",
            " 7   minute                  category\n",
            " 8   second                  category\n",
            " 9   day_week                category\n",
            " 10  day_month               category\n",
            " 11  daytime                 category\n",
            " 12  concurrent_sessions_7D  float64 \n",
            "dtypes: category(9), float64(1), int64(2), object(1)\n",
            "memory usage: 218.0+ MB\n"
          ]
        }
      ],
      "source": [
        "df_tsa.info()"
      ]
    },
    {
      "cell_type": "code",
      "execution_count": 57,
      "metadata": {
        "id": "Ax19CCPoKQ0Y"
      },
      "outputs": [],
      "source": [
        "# List of features to be converted to integers\n",
        "int_features = ['year', 'month', 'week', 'hour', 'minute', 'second', 'day_week', 'day_month', 'daytime',\n",
        "                'concurrent_sessions', 'concurrent_sessions_7D', 'abs_ended_sessions']\n",
        "\n",
        "# Identify category columns in int_features\n",
        "category_columns = df_tsa[int_features].select_dtypes(include='category').columns\n",
        "\n",
        "# Convert category columns to float first, then to int\n",
        "df_tsa[category_columns] = df_tsa[category_columns].astype(float).astype(int)\n",
        "\n",
        "# Identify non-category columns in int_features\n",
        "non_category_columns = df_tsa[int_features].select_dtypes(exclude='category').columns\n",
        "\n",
        "# Convert non-category columns directly to int\n",
        "df_tsa[non_category_columns] = df_tsa[non_category_columns].astype(int)\n"
      ]
    },
    {
      "cell_type": "code",
      "execution_count": 58,
      "metadata": {
        "colab": {
          "base_uri": "https://localhost:8080/"
        },
        "id": "DU-0Xx9eLPXs",
        "outputId": "02275946-fab6-435c-f415-49270ea20b48"
      },
      "outputs": [
        {
          "output_type": "stream",
          "name": "stdout",
          "text": [
            "<class 'pandas.core.frame.DataFrame'>\n",
            "DatetimeIndex: 4665564 entries, 2024-03-08 00:00:12 to 2024-04-30 23:59:59\n",
            "Data columns (total 13 columns):\n",
            " #   Column                  Dtype \n",
            "---  ------                  ----- \n",
            " 0   abs_ended_sessions      int64 \n",
            " 1   mean_duration_end       object\n",
            " 2   concurrent_sessions     int64 \n",
            " 3   year                    int64 \n",
            " 4   month                   int64 \n",
            " 5   week                    int64 \n",
            " 6   hour                    int64 \n",
            " 7   minute                  int64 \n",
            " 8   second                  int64 \n",
            " 9   day_week                int64 \n",
            " 10  day_month               int64 \n",
            " 11  daytime                 int64 \n",
            " 12  concurrent_sessions_7D  int64 \n",
            "dtypes: int64(12), object(1)\n",
            "memory usage: 498.3+ MB\n"
          ]
        }
      ],
      "source": [
        "df_tsa.info()"
      ]
    },
    {
      "cell_type": "code",
      "execution_count": 59,
      "metadata": {
        "id": "6HfaJkT8N0WZ"
      },
      "outputs": [],
      "source": [
        "# timestamp related features\n",
        "time_features = ['year', 'month', 'week', 'hour', 'minute', 'second', 'day_week', 'day_month', 'daytime']"
      ]
    },
    {
      "cell_type": "markdown",
      "metadata": {
        "id": "WgXxmQyvfFlu"
      },
      "source": [
        "---\n",
        "---\n",
        "## **XGBoost Regressor**"
      ]
    },
    {
      "cell_type": "markdown",
      "source": [
        "As the first model a XGBoost Regressor is tried."
      ],
      "metadata": {
        "id": "5w8YscIQBDE9"
      }
    },
    {
      "cell_type": "markdown",
      "source": [
        "---\n",
        "### Feature Selection"
      ],
      "metadata": {
        "id": "b08BRuzwSq-Q"
      }
    },
    {
      "cell_type": "code",
      "execution_count": 32,
      "metadata": {
        "colab": {
          "base_uri": "https://localhost:8080/",
          "height": 455
        },
        "id": "Vi44rVsnIGZb",
        "outputId": "dc34237c-ff40-471e-d60c-808b4b5fa1b5"
      },
      "outputs": [
        {
          "output_type": "execute_result",
          "data": {
            "text/plain": [
              "                     year  month  week  hour  minute  second  day_week  \\\n",
              "timestamp                                                                \n",
              "2024-03-08 00:00:12  2024      3    10     0       0      12         5   \n",
              "2024-03-08 00:00:13  2024      3    10     0       0      13         5   \n",
              "2024-03-08 00:00:14  2024      3    10     0       0      14         5   \n",
              "2024-03-08 00:00:15  2024      3    10     0       0      15         5   \n",
              "2024-03-08 00:00:16  2024      3    10     0       0      16         5   \n",
              "...                   ...    ...   ...   ...     ...     ...       ...   \n",
              "2024-04-30 23:59:55  2024      4    18    23      59      55         2   \n",
              "2024-04-30 23:59:56  2024      4    18    23      59      56         2   \n",
              "2024-04-30 23:59:57  2024      4    18    23      59      57         2   \n",
              "2024-04-30 23:59:58  2024      4    18    23      59      58         2   \n",
              "2024-04-30 23:59:59  2024      4    18    23      59      59         2   \n",
              "\n",
              "                     day_month  daytime  \n",
              "timestamp                                \n",
              "2024-03-08 00:00:12          4        1  \n",
              "2024-03-08 00:00:13          4        1  \n",
              "2024-03-08 00:00:14          4        1  \n",
              "2024-03-08 00:00:15          4        1  \n",
              "2024-03-08 00:00:16          4        1  \n",
              "...                        ...      ...  \n",
              "2024-04-30 23:59:55          1        8  \n",
              "2024-04-30 23:59:56          1        8  \n",
              "2024-04-30 23:59:57          1        8  \n",
              "2024-04-30 23:59:58          1        8  \n",
              "2024-04-30 23:59:59          1        8  \n",
              "\n",
              "[4665564 rows x 9 columns]"
            ],
            "text/html": [
              "\n",
              "  <div id=\"df-d8c6ad8c-fc3f-46dc-b287-495072d1edf1\" class=\"colab-df-container\">\n",
              "    <div>\n",
              "<style scoped>\n",
              "    .dataframe tbody tr th:only-of-type {\n",
              "        vertical-align: middle;\n",
              "    }\n",
              "\n",
              "    .dataframe tbody tr th {\n",
              "        vertical-align: top;\n",
              "    }\n",
              "\n",
              "    .dataframe thead th {\n",
              "        text-align: right;\n",
              "    }\n",
              "</style>\n",
              "<table border=\"1\" class=\"dataframe\">\n",
              "  <thead>\n",
              "    <tr style=\"text-align: right;\">\n",
              "      <th></th>\n",
              "      <th>year</th>\n",
              "      <th>month</th>\n",
              "      <th>week</th>\n",
              "      <th>hour</th>\n",
              "      <th>minute</th>\n",
              "      <th>second</th>\n",
              "      <th>day_week</th>\n",
              "      <th>day_month</th>\n",
              "      <th>daytime</th>\n",
              "    </tr>\n",
              "    <tr>\n",
              "      <th>timestamp</th>\n",
              "      <th></th>\n",
              "      <th></th>\n",
              "      <th></th>\n",
              "      <th></th>\n",
              "      <th></th>\n",
              "      <th></th>\n",
              "      <th></th>\n",
              "      <th></th>\n",
              "      <th></th>\n",
              "    </tr>\n",
              "  </thead>\n",
              "  <tbody>\n",
              "    <tr>\n",
              "      <th>2024-03-08 00:00:12</th>\n",
              "      <td>2024</td>\n",
              "      <td>3</td>\n",
              "      <td>10</td>\n",
              "      <td>0</td>\n",
              "      <td>0</td>\n",
              "      <td>12</td>\n",
              "      <td>5</td>\n",
              "      <td>4</td>\n",
              "      <td>1</td>\n",
              "    </tr>\n",
              "    <tr>\n",
              "      <th>2024-03-08 00:00:13</th>\n",
              "      <td>2024</td>\n",
              "      <td>3</td>\n",
              "      <td>10</td>\n",
              "      <td>0</td>\n",
              "      <td>0</td>\n",
              "      <td>13</td>\n",
              "      <td>5</td>\n",
              "      <td>4</td>\n",
              "      <td>1</td>\n",
              "    </tr>\n",
              "    <tr>\n",
              "      <th>2024-03-08 00:00:14</th>\n",
              "      <td>2024</td>\n",
              "      <td>3</td>\n",
              "      <td>10</td>\n",
              "      <td>0</td>\n",
              "      <td>0</td>\n",
              "      <td>14</td>\n",
              "      <td>5</td>\n",
              "      <td>4</td>\n",
              "      <td>1</td>\n",
              "    </tr>\n",
              "    <tr>\n",
              "      <th>2024-03-08 00:00:15</th>\n",
              "      <td>2024</td>\n",
              "      <td>3</td>\n",
              "      <td>10</td>\n",
              "      <td>0</td>\n",
              "      <td>0</td>\n",
              "      <td>15</td>\n",
              "      <td>5</td>\n",
              "      <td>4</td>\n",
              "      <td>1</td>\n",
              "    </tr>\n",
              "    <tr>\n",
              "      <th>2024-03-08 00:00:16</th>\n",
              "      <td>2024</td>\n",
              "      <td>3</td>\n",
              "      <td>10</td>\n",
              "      <td>0</td>\n",
              "      <td>0</td>\n",
              "      <td>16</td>\n",
              "      <td>5</td>\n",
              "      <td>4</td>\n",
              "      <td>1</td>\n",
              "    </tr>\n",
              "    <tr>\n",
              "      <th>...</th>\n",
              "      <td>...</td>\n",
              "      <td>...</td>\n",
              "      <td>...</td>\n",
              "      <td>...</td>\n",
              "      <td>...</td>\n",
              "      <td>...</td>\n",
              "      <td>...</td>\n",
              "      <td>...</td>\n",
              "      <td>...</td>\n",
              "    </tr>\n",
              "    <tr>\n",
              "      <th>2024-04-30 23:59:55</th>\n",
              "      <td>2024</td>\n",
              "      <td>4</td>\n",
              "      <td>18</td>\n",
              "      <td>23</td>\n",
              "      <td>59</td>\n",
              "      <td>55</td>\n",
              "      <td>2</td>\n",
              "      <td>1</td>\n",
              "      <td>8</td>\n",
              "    </tr>\n",
              "    <tr>\n",
              "      <th>2024-04-30 23:59:56</th>\n",
              "      <td>2024</td>\n",
              "      <td>4</td>\n",
              "      <td>18</td>\n",
              "      <td>23</td>\n",
              "      <td>59</td>\n",
              "      <td>56</td>\n",
              "      <td>2</td>\n",
              "      <td>1</td>\n",
              "      <td>8</td>\n",
              "    </tr>\n",
              "    <tr>\n",
              "      <th>2024-04-30 23:59:57</th>\n",
              "      <td>2024</td>\n",
              "      <td>4</td>\n",
              "      <td>18</td>\n",
              "      <td>23</td>\n",
              "      <td>59</td>\n",
              "      <td>57</td>\n",
              "      <td>2</td>\n",
              "      <td>1</td>\n",
              "      <td>8</td>\n",
              "    </tr>\n",
              "    <tr>\n",
              "      <th>2024-04-30 23:59:58</th>\n",
              "      <td>2024</td>\n",
              "      <td>4</td>\n",
              "      <td>18</td>\n",
              "      <td>23</td>\n",
              "      <td>59</td>\n",
              "      <td>58</td>\n",
              "      <td>2</td>\n",
              "      <td>1</td>\n",
              "      <td>8</td>\n",
              "    </tr>\n",
              "    <tr>\n",
              "      <th>2024-04-30 23:59:59</th>\n",
              "      <td>2024</td>\n",
              "      <td>4</td>\n",
              "      <td>18</td>\n",
              "      <td>23</td>\n",
              "      <td>59</td>\n",
              "      <td>59</td>\n",
              "      <td>2</td>\n",
              "      <td>1</td>\n",
              "      <td>8</td>\n",
              "    </tr>\n",
              "  </tbody>\n",
              "</table>\n",
              "<p>4665564 rows × 9 columns</p>\n",
              "</div>\n",
              "    <div class=\"colab-df-buttons\">\n",
              "\n",
              "  <div class=\"colab-df-container\">\n",
              "    <button class=\"colab-df-convert\" onclick=\"convertToInteractive('df-d8c6ad8c-fc3f-46dc-b287-495072d1edf1')\"\n",
              "            title=\"Convert this dataframe to an interactive table.\"\n",
              "            style=\"display:none;\">\n",
              "\n",
              "  <svg xmlns=\"http://www.w3.org/2000/svg\" height=\"24px\" viewBox=\"0 -960 960 960\">\n",
              "    <path d=\"M120-120v-720h720v720H120Zm60-500h600v-160H180v160Zm220 220h160v-160H400v160Zm0 220h160v-160H400v160ZM180-400h160v-160H180v160Zm440 0h160v-160H620v160ZM180-180h160v-160H180v160Zm440 0h160v-160H620v160Z\"/>\n",
              "  </svg>\n",
              "    </button>\n",
              "\n",
              "  <style>\n",
              "    .colab-df-container {\n",
              "      display:flex;\n",
              "      gap: 12px;\n",
              "    }\n",
              "\n",
              "    .colab-df-convert {\n",
              "      background-color: #E8F0FE;\n",
              "      border: none;\n",
              "      border-radius: 50%;\n",
              "      cursor: pointer;\n",
              "      display: none;\n",
              "      fill: #1967D2;\n",
              "      height: 32px;\n",
              "      padding: 0 0 0 0;\n",
              "      width: 32px;\n",
              "    }\n",
              "\n",
              "    .colab-df-convert:hover {\n",
              "      background-color: #E2EBFA;\n",
              "      box-shadow: 0px 1px 2px rgba(60, 64, 67, 0.3), 0px 1px 3px 1px rgba(60, 64, 67, 0.15);\n",
              "      fill: #174EA6;\n",
              "    }\n",
              "\n",
              "    .colab-df-buttons div {\n",
              "      margin-bottom: 4px;\n",
              "    }\n",
              "\n",
              "    [theme=dark] .colab-df-convert {\n",
              "      background-color: #3B4455;\n",
              "      fill: #D2E3FC;\n",
              "    }\n",
              "\n",
              "    [theme=dark] .colab-df-convert:hover {\n",
              "      background-color: #434B5C;\n",
              "      box-shadow: 0px 1px 3px 1px rgba(0, 0, 0, 0.15);\n",
              "      filter: drop-shadow(0px 1px 2px rgba(0, 0, 0, 0.3));\n",
              "      fill: #FFFFFF;\n",
              "    }\n",
              "  </style>\n",
              "\n",
              "    <script>\n",
              "      const buttonEl =\n",
              "        document.querySelector('#df-d8c6ad8c-fc3f-46dc-b287-495072d1edf1 button.colab-df-convert');\n",
              "      buttonEl.style.display =\n",
              "        google.colab.kernel.accessAllowed ? 'block' : 'none';\n",
              "\n",
              "      async function convertToInteractive(key) {\n",
              "        const element = document.querySelector('#df-d8c6ad8c-fc3f-46dc-b287-495072d1edf1');\n",
              "        const dataTable =\n",
              "          await google.colab.kernel.invokeFunction('convertToInteractive',\n",
              "                                                    [key], {});\n",
              "        if (!dataTable) return;\n",
              "\n",
              "        const docLinkHtml = 'Like what you see? Visit the ' +\n",
              "          '<a target=\"_blank\" href=https://colab.research.google.com/notebooks/data_table.ipynb>data table notebook</a>'\n",
              "          + ' to learn more about interactive tables.';\n",
              "        element.innerHTML = '';\n",
              "        dataTable['output_type'] = 'display_data';\n",
              "        await google.colab.output.renderOutput(dataTable, element);\n",
              "        const docLink = document.createElement('div');\n",
              "        docLink.innerHTML = docLinkHtml;\n",
              "        element.appendChild(docLink);\n",
              "      }\n",
              "    </script>\n",
              "  </div>\n",
              "\n",
              "\n",
              "<div id=\"df-31f14aa1-c41f-47b4-8a46-cd377a949d3e\">\n",
              "  <button class=\"colab-df-quickchart\" onclick=\"quickchart('df-31f14aa1-c41f-47b4-8a46-cd377a949d3e')\"\n",
              "            title=\"Suggest charts\"\n",
              "            style=\"display:none;\">\n",
              "\n",
              "<svg xmlns=\"http://www.w3.org/2000/svg\" height=\"24px\"viewBox=\"0 0 24 24\"\n",
              "     width=\"24px\">\n",
              "    <g>\n",
              "        <path d=\"M19 3H5c-1.1 0-2 .9-2 2v14c0 1.1.9 2 2 2h14c1.1 0 2-.9 2-2V5c0-1.1-.9-2-2-2zM9 17H7v-7h2v7zm4 0h-2V7h2v10zm4 0h-2v-4h2v4z\"/>\n",
              "    </g>\n",
              "</svg>\n",
              "  </button>\n",
              "\n",
              "<style>\n",
              "  .colab-df-quickchart {\n",
              "      --bg-color: #E8F0FE;\n",
              "      --fill-color: #1967D2;\n",
              "      --hover-bg-color: #E2EBFA;\n",
              "      --hover-fill-color: #174EA6;\n",
              "      --disabled-fill-color: #AAA;\n",
              "      --disabled-bg-color: #DDD;\n",
              "  }\n",
              "\n",
              "  [theme=dark] .colab-df-quickchart {\n",
              "      --bg-color: #3B4455;\n",
              "      --fill-color: #D2E3FC;\n",
              "      --hover-bg-color: #434B5C;\n",
              "      --hover-fill-color: #FFFFFF;\n",
              "      --disabled-bg-color: #3B4455;\n",
              "      --disabled-fill-color: #666;\n",
              "  }\n",
              "\n",
              "  .colab-df-quickchart {\n",
              "    background-color: var(--bg-color);\n",
              "    border: none;\n",
              "    border-radius: 50%;\n",
              "    cursor: pointer;\n",
              "    display: none;\n",
              "    fill: var(--fill-color);\n",
              "    height: 32px;\n",
              "    padding: 0;\n",
              "    width: 32px;\n",
              "  }\n",
              "\n",
              "  .colab-df-quickchart:hover {\n",
              "    background-color: var(--hover-bg-color);\n",
              "    box-shadow: 0 1px 2px rgba(60, 64, 67, 0.3), 0 1px 3px 1px rgba(60, 64, 67, 0.15);\n",
              "    fill: var(--button-hover-fill-color);\n",
              "  }\n",
              "\n",
              "  .colab-df-quickchart-complete:disabled,\n",
              "  .colab-df-quickchart-complete:disabled:hover {\n",
              "    background-color: var(--disabled-bg-color);\n",
              "    fill: var(--disabled-fill-color);\n",
              "    box-shadow: none;\n",
              "  }\n",
              "\n",
              "  .colab-df-spinner {\n",
              "    border: 2px solid var(--fill-color);\n",
              "    border-color: transparent;\n",
              "    border-bottom-color: var(--fill-color);\n",
              "    animation:\n",
              "      spin 1s steps(1) infinite;\n",
              "  }\n",
              "\n",
              "  @keyframes spin {\n",
              "    0% {\n",
              "      border-color: transparent;\n",
              "      border-bottom-color: var(--fill-color);\n",
              "      border-left-color: var(--fill-color);\n",
              "    }\n",
              "    20% {\n",
              "      border-color: transparent;\n",
              "      border-left-color: var(--fill-color);\n",
              "      border-top-color: var(--fill-color);\n",
              "    }\n",
              "    30% {\n",
              "      border-color: transparent;\n",
              "      border-left-color: var(--fill-color);\n",
              "      border-top-color: var(--fill-color);\n",
              "      border-right-color: var(--fill-color);\n",
              "    }\n",
              "    40% {\n",
              "      border-color: transparent;\n",
              "      border-right-color: var(--fill-color);\n",
              "      border-top-color: var(--fill-color);\n",
              "    }\n",
              "    60% {\n",
              "      border-color: transparent;\n",
              "      border-right-color: var(--fill-color);\n",
              "    }\n",
              "    80% {\n",
              "      border-color: transparent;\n",
              "      border-right-color: var(--fill-color);\n",
              "      border-bottom-color: var(--fill-color);\n",
              "    }\n",
              "    90% {\n",
              "      border-color: transparent;\n",
              "      border-bottom-color: var(--fill-color);\n",
              "    }\n",
              "  }\n",
              "</style>\n",
              "\n",
              "  <script>\n",
              "    async function quickchart(key) {\n",
              "      const quickchartButtonEl =\n",
              "        document.querySelector('#' + key + ' button');\n",
              "      quickchartButtonEl.disabled = true;  // To prevent multiple clicks.\n",
              "      quickchartButtonEl.classList.add('colab-df-spinner');\n",
              "      try {\n",
              "        const charts = await google.colab.kernel.invokeFunction(\n",
              "            'suggestCharts', [key], {});\n",
              "      } catch (error) {\n",
              "        console.error('Error during call to suggestCharts:', error);\n",
              "      }\n",
              "      quickchartButtonEl.classList.remove('colab-df-spinner');\n",
              "      quickchartButtonEl.classList.add('colab-df-quickchart-complete');\n",
              "    }\n",
              "    (() => {\n",
              "      let quickchartButtonEl =\n",
              "        document.querySelector('#df-31f14aa1-c41f-47b4-8a46-cd377a949d3e button');\n",
              "      quickchartButtonEl.style.display =\n",
              "        google.colab.kernel.accessAllowed ? 'block' : 'none';\n",
              "    })();\n",
              "  </script>\n",
              "</div>\n",
              "\n",
              "    </div>\n",
              "  </div>\n"
            ],
            "application/vnd.google.colaboratory.intrinsic+json": {
              "type": "dataframe"
            }
          },
          "metadata": {},
          "execution_count": 32
        }
      ],
      "source": [
        "df_tsa[time_features]"
      ]
    },
    {
      "cell_type": "code",
      "execution_count": null,
      "metadata": {
        "id": "EaFgzByElGuB"
      },
      "outputs": [],
      "source": [
        "# Create X and y objects\n",
        "X = df_tsa[time_features]\n",
        "y = df_tsa['concurrent_sessions']"
      ]
    },
    {
      "cell_type": "code",
      "execution_count": null,
      "metadata": {
        "colab": {
          "base_uri": "https://localhost:8080/"
        },
        "id": "43pOXGsPlGuC",
        "outputId": "98b61528-b227-4b9e-b562-d23b38c8e3a7"
      },
      "outputs": [
        {
          "output_type": "stream",
          "name": "stdout",
          "text": [
            "<class 'pandas.core.frame.DataFrame'>\n",
            "DatetimeIndex: 4665564 entries, 2024-03-08 00:00:12 to 2024-04-30 23:59:59\n",
            "Data columns (total 9 columns):\n",
            " #   Column     Dtype\n",
            "---  ------     -----\n",
            " 0   year       int64\n",
            " 1   month      int64\n",
            " 2   week       int64\n",
            " 3   hour       int64\n",
            " 4   minute     int64\n",
            " 5   second     int64\n",
            " 6   day_week   int64\n",
            " 7   day_month  int64\n",
            " 8   daytime    int64\n",
            "dtypes: int64(9)\n",
            "memory usage: 356.0 MB\n"
          ]
        }
      ],
      "source": [
        "X.info()"
      ]
    },
    {
      "cell_type": "markdown",
      "source": [
        "---\n",
        "### Implementation"
      ],
      "metadata": {
        "id": "RSW37XgPSxbL"
      }
    },
    {
      "cell_type": "code",
      "execution_count": null,
      "metadata": {
        "id": "5LpbepcYnltF"
      },
      "outputs": [],
      "source": [
        "# defining scaler\n",
        "scaler = StandardScaler()\n",
        "scaled_X = scaler.fit_transform(X)"
      ]
    },
    {
      "cell_type": "code",
      "execution_count": null,
      "metadata": {
        "id": "9yYymqYZlGuC"
      },
      "outputs": [],
      "source": [
        "# Create Train test split\n",
        "X_train, X_test, y_train, y_test = train_test_split(scaled_X, y, test_size=0.25, random_state=42, shuffle=False)"
      ]
    },
    {
      "cell_type": "code",
      "execution_count": null,
      "metadata": {
        "colab": {
          "base_uri": "https://localhost:8080/",
          "height": 248
        },
        "id": "h1IPeE4kxLty",
        "outputId": "33d2667d-093c-4fa3-8c03-b7740ced474d"
      },
      "outputs": [
        {
          "output_type": "execute_result",
          "data": {
            "text/plain": [
              "XGBRegressor(base_score=None, booster=None, callbacks=None,\n",
              "             colsample_bylevel=None, colsample_bynode=None,\n",
              "             colsample_bytree=None, device=None, early_stopping_rounds=None,\n",
              "             enable_categorical=False, eval_metric=None, feature_types=None,\n",
              "             gamma=None, grow_policy=None, importance_type=None,\n",
              "             interaction_constraints=None, learning_rate=None, max_bin=None,\n",
              "             max_cat_threshold=None, max_cat_to_onehot=None,\n",
              "             max_delta_step=None, max_depth=None, max_leaves=None,\n",
              "             min_child_weight=None, missing=nan, monotone_constraints=None,\n",
              "             multi_strategy=None, n_estimators=None, n_jobs=None,\n",
              "             num_parallel_tree=None, random_state=None, ...)"
            ],
            "text/html": [
              "<style>#sk-container-id-1 {color: black;background-color: white;}#sk-container-id-1 pre{padding: 0;}#sk-container-id-1 div.sk-toggleable {background-color: white;}#sk-container-id-1 label.sk-toggleable__label {cursor: pointer;display: block;width: 100%;margin-bottom: 0;padding: 0.3em;box-sizing: border-box;text-align: center;}#sk-container-id-1 label.sk-toggleable__label-arrow:before {content: \"▸\";float: left;margin-right: 0.25em;color: #696969;}#sk-container-id-1 label.sk-toggleable__label-arrow:hover:before {color: black;}#sk-container-id-1 div.sk-estimator:hover label.sk-toggleable__label-arrow:before {color: black;}#sk-container-id-1 div.sk-toggleable__content {max-height: 0;max-width: 0;overflow: hidden;text-align: left;background-color: #f0f8ff;}#sk-container-id-1 div.sk-toggleable__content pre {margin: 0.2em;color: black;border-radius: 0.25em;background-color: #f0f8ff;}#sk-container-id-1 input.sk-toggleable__control:checked~div.sk-toggleable__content {max-height: 200px;max-width: 100%;overflow: auto;}#sk-container-id-1 input.sk-toggleable__control:checked~label.sk-toggleable__label-arrow:before {content: \"▾\";}#sk-container-id-1 div.sk-estimator input.sk-toggleable__control:checked~label.sk-toggleable__label {background-color: #d4ebff;}#sk-container-id-1 div.sk-label input.sk-toggleable__control:checked~label.sk-toggleable__label {background-color: #d4ebff;}#sk-container-id-1 input.sk-hidden--visually {border: 0;clip: rect(1px 1px 1px 1px);clip: rect(1px, 1px, 1px, 1px);height: 1px;margin: -1px;overflow: hidden;padding: 0;position: absolute;width: 1px;}#sk-container-id-1 div.sk-estimator {font-family: monospace;background-color: #f0f8ff;border: 1px dotted black;border-radius: 0.25em;box-sizing: border-box;margin-bottom: 0.5em;}#sk-container-id-1 div.sk-estimator:hover {background-color: #d4ebff;}#sk-container-id-1 div.sk-parallel-item::after {content: \"\";width: 100%;border-bottom: 1px solid gray;flex-grow: 1;}#sk-container-id-1 div.sk-label:hover label.sk-toggleable__label {background-color: #d4ebff;}#sk-container-id-1 div.sk-serial::before {content: \"\";position: absolute;border-left: 1px solid gray;box-sizing: border-box;top: 0;bottom: 0;left: 50%;z-index: 0;}#sk-container-id-1 div.sk-serial {display: flex;flex-direction: column;align-items: center;background-color: white;padding-right: 0.2em;padding-left: 0.2em;position: relative;}#sk-container-id-1 div.sk-item {position: relative;z-index: 1;}#sk-container-id-1 div.sk-parallel {display: flex;align-items: stretch;justify-content: center;background-color: white;position: relative;}#sk-container-id-1 div.sk-item::before, #sk-container-id-1 div.sk-parallel-item::before {content: \"\";position: absolute;border-left: 1px solid gray;box-sizing: border-box;top: 0;bottom: 0;left: 50%;z-index: -1;}#sk-container-id-1 div.sk-parallel-item {display: flex;flex-direction: column;z-index: 1;position: relative;background-color: white;}#sk-container-id-1 div.sk-parallel-item:first-child::after {align-self: flex-end;width: 50%;}#sk-container-id-1 div.sk-parallel-item:last-child::after {align-self: flex-start;width: 50%;}#sk-container-id-1 div.sk-parallel-item:only-child::after {width: 0;}#sk-container-id-1 div.sk-dashed-wrapped {border: 1px dashed gray;margin: 0 0.4em 0.5em 0.4em;box-sizing: border-box;padding-bottom: 0.4em;background-color: white;}#sk-container-id-1 div.sk-label label {font-family: monospace;font-weight: bold;display: inline-block;line-height: 1.2em;}#sk-container-id-1 div.sk-label-container {text-align: center;}#sk-container-id-1 div.sk-container {/* jupyter's `normalize.less` sets `[hidden] { display: none; }` but bootstrap.min.css set `[hidden] { display: none !important; }` so we also need the `!important` here to be able to override the default hidden behavior on the sphinx rendered scikit-learn.org. See: https://github.com/scikit-learn/scikit-learn/issues/21755 */display: inline-block !important;position: relative;}#sk-container-id-1 div.sk-text-repr-fallback {display: none;}</style><div id=\"sk-container-id-1\" class=\"sk-top-container\"><div class=\"sk-text-repr-fallback\"><pre>XGBRegressor(base_score=None, booster=None, callbacks=None,\n",
              "             colsample_bylevel=None, colsample_bynode=None,\n",
              "             colsample_bytree=None, device=None, early_stopping_rounds=None,\n",
              "             enable_categorical=False, eval_metric=None, feature_types=None,\n",
              "             gamma=None, grow_policy=None, importance_type=None,\n",
              "             interaction_constraints=None, learning_rate=None, max_bin=None,\n",
              "             max_cat_threshold=None, max_cat_to_onehot=None,\n",
              "             max_delta_step=None, max_depth=None, max_leaves=None,\n",
              "             min_child_weight=None, missing=nan, monotone_constraints=None,\n",
              "             multi_strategy=None, n_estimators=None, n_jobs=None,\n",
              "             num_parallel_tree=None, random_state=None, ...)</pre><b>In a Jupyter environment, please rerun this cell to show the HTML representation or trust the notebook. <br />On GitHub, the HTML representation is unable to render, please try loading this page with nbviewer.org.</b></div><div class=\"sk-container\" hidden><div class=\"sk-item\"><div class=\"sk-estimator sk-toggleable\"><input class=\"sk-toggleable__control sk-hidden--visually\" id=\"sk-estimator-id-1\" type=\"checkbox\" checked><label for=\"sk-estimator-id-1\" class=\"sk-toggleable__label sk-toggleable__label-arrow\">XGBRegressor</label><div class=\"sk-toggleable__content\"><pre>XGBRegressor(base_score=None, booster=None, callbacks=None,\n",
              "             colsample_bylevel=None, colsample_bynode=None,\n",
              "             colsample_bytree=None, device=None, early_stopping_rounds=None,\n",
              "             enable_categorical=False, eval_metric=None, feature_types=None,\n",
              "             gamma=None, grow_policy=None, importance_type=None,\n",
              "             interaction_constraints=None, learning_rate=None, max_bin=None,\n",
              "             max_cat_threshold=None, max_cat_to_onehot=None,\n",
              "             max_delta_step=None, max_depth=None, max_leaves=None,\n",
              "             min_child_weight=None, missing=nan, monotone_constraints=None,\n",
              "             multi_strategy=None, n_estimators=None, n_jobs=None,\n",
              "             num_parallel_tree=None, random_state=None, ...)</pre></div></div></div></div></div>"
            ]
          },
          "metadata": {},
          "execution_count": 93
        }
      ],
      "source": [
        "# train model\n",
        "# set random seed to 42\n",
        "xgb_model = XGBRegressor(seed=42)\n",
        "xgb_model.fit(X_train, y_train)"
      ]
    },
    {
      "cell_type": "markdown",
      "source": [
        "---\n",
        "### Evaluation"
      ],
      "metadata": {
        "id": "zFcUGes8S_Kn"
      }
    },
    {
      "cell_type": "code",
      "execution_count": null,
      "metadata": {
        "id": "SVH0S5G6eQHR"
      },
      "outputs": [],
      "source": [
        "# make prediction based on X_test\n",
        "xgb_pred = xgb_model.predict(X_test)"
      ]
    },
    {
      "cell_type": "code",
      "execution_count": null,
      "metadata": {
        "id": "1ixt__d4xvop"
      },
      "outputs": [],
      "source": [
        "# metrics\n",
        "mse = mean_squared_error(y_test, xgb_pred)\n",
        "mae = mean_absolute_error(y_test, xgb_pred)\n",
        "r2 = r2_score(y_test, xgb_pred)\n",
        "explained_variance = explained_variance_score(y_test, xgb_pred)"
      ]
    },
    {
      "cell_type": "code",
      "execution_count": null,
      "metadata": {
        "id": "a6LGkoYU3zoW"
      },
      "outputs": [],
      "source": [
        "# define model characteristics\n",
        "model_name = \"XGBoost_default\"\n",
        "features = X.columns.tolist()\n",
        "target = y.name\n",
        "\n",
        "eval_xgb = create_evaluation_df(model_name=model_name, target=target, features=features, mse=mse, mae=mae, r2=r2, explained_variance=explained_variance)"
      ]
    },
    {
      "cell_type": "code",
      "execution_count": null,
      "metadata": {
        "id": "9_xxUkGDwbRk"
      },
      "outputs": [],
      "source": [
        "eval_df = pd.concat([eval_baseline, eval_xgb], ignore_index=True)"
      ]
    },
    {
      "cell_type": "code",
      "execution_count": null,
      "metadata": {
        "colab": {
          "base_uri": "https://localhost:8080/",
          "height": 129
        },
        "id": "G6JNi2ty31c2",
        "outputId": "d57c06ac-85e2-44de-9280-7a3bfae68918"
      },
      "outputs": [
        {
          "output_type": "execute_result",
          "data": {
            "text/plain": [
              "<pandas.io.formats.style.Styler at 0x7acee211b7f0>"
            ],
            "text/html": [
              "<style type=\"text/css\">\n",
              "</style>\n",
              "<table id=\"T_07a40\" class=\"dataframe\">\n",
              "  <thead>\n",
              "    <tr>\n",
              "      <th class=\"blank level0\" >&nbsp;</th>\n",
              "      <th id=\"T_07a40_level0_col0\" class=\"col_heading level0 col0\" >modelname</th>\n",
              "      <th id=\"T_07a40_level0_col1\" class=\"col_heading level0 col1\" >target</th>\n",
              "      <th id=\"T_07a40_level0_col2\" class=\"col_heading level0 col2\" >features</th>\n",
              "      <th id=\"T_07a40_level0_col3\" class=\"col_heading level0 col3\" >mse</th>\n",
              "      <th id=\"T_07a40_level0_col4\" class=\"col_heading level0 col4\" >mae</th>\n",
              "      <th id=\"T_07a40_level0_col5\" class=\"col_heading level0 col5\" >r2</th>\n",
              "      <th id=\"T_07a40_level0_col6\" class=\"col_heading level0 col6\" >explained_variance</th>\n",
              "    </tr>\n",
              "  </thead>\n",
              "  <tbody>\n",
              "    <tr>\n",
              "      <th id=\"T_07a40_level0_row0\" class=\"row_heading level0 row0\" >0</th>\n",
              "      <td id=\"T_07a40_row0_col0\" class=\"data row0 col0\" >baseline_model</td>\n",
              "      <td id=\"T_07a40_row0_col1\" class=\"data row0 col1\" >concurrent_sessions</td>\n",
              "      <td id=\"T_07a40_row0_col2\" class=\"data row0 col2\" >concurrent_sessions_7D</td>\n",
              "      <td id=\"T_07a40_row0_col3\" class=\"data row0 col3\" >3099.132959</td>\n",
              "      <td id=\"T_07a40_row0_col4\" class=\"data row0 col4\" >37.412436</td>\n",
              "      <td id=\"T_07a40_row0_col5\" class=\"data row0 col5\" >0.975018</td>\n",
              "      <td id=\"T_07a40_row0_col6\" class=\"data row0 col6\" >0.975988</td>\n",
              "    </tr>\n",
              "    <tr>\n",
              "      <th id=\"T_07a40_level0_row1\" class=\"row_heading level0 row1\" >1</th>\n",
              "      <td id=\"T_07a40_row1_col0\" class=\"data row1 col0\" >XGBoost_default</td>\n",
              "      <td id=\"T_07a40_row1_col1\" class=\"data row1 col1\" >concurrent_sessions</td>\n",
              "      <td id=\"T_07a40_row1_col2\" class=\"data row1 col2\" >['year', 'month', 'week', 'hour', 'minute', 'second', 'day_week', 'day_month', 'daytime']</td>\n",
              "      <td id=\"T_07a40_row1_col3\" class=\"data row1 col3\" >3206.561853</td>\n",
              "      <td id=\"T_07a40_row1_col4\" class=\"data row1 col4\" >38.182828</td>\n",
              "      <td id=\"T_07a40_row1_col5\" class=\"data row1 col5\" >0.974152</td>\n",
              "      <td id=\"T_07a40_row1_col6\" class=\"data row1 col6\" >0.974425</td>\n",
              "    </tr>\n",
              "  </tbody>\n",
              "</table>\n"
            ]
          },
          "metadata": {},
          "execution_count": 98
        }
      ],
      "source": [
        "eval_df.style"
      ]
    },
    {
      "cell_type": "markdown",
      "source": [
        "**Model Name: `XGBoost_default`**\n",
        "\n",
        "**Features: `['year', 'month', 'week', 'hour', 'minute', 'second', 'day_week', 'day_month', 'daytime']`**\n",
        "- The features used by the model include a variety of temporal variables: year, month, week, hour, minute, second, day of the week, day of the month, and daytime.\n",
        "\n",
        "**Metrics**\n",
        "- **Mean Squared Error (MSE): `3206.561853`**\n",
        "    - An MSE of 3206.56 indicates that, on average, the squared difference between the predicted and actual concurrent sessions is 3206.56. This value is used to assess the overall accuracy of the model, with lower values indicating better performance.\n",
        "\n",
        "- **Mean Absolute Error (MAE): `38.182828`**\n",
        "    - An MAE of 38.18 means that, on average, the model’s predictions are off by about 38.18 sessions. This metric provides a straightforward interpretation of prediction accuracy, with lower values indicating better performance.\n",
        "\n",
        "- **R-Squared (R²): `0.974152`**\n",
        "    - An R² value of 0.974152 indicates that approximately 97.4% of the variance in the number of concurrent sessions can be explained by the model. This is a high value, suggesting that the model fits the data very well.\n",
        "\n",
        "- **Explained Variance: `0.974425`**\n",
        "    - An explained variance of 0.974425 means that the model accounts for about 97.4% of the variance in concurrent sessions, which further confirms the model's strong predictive power.\n",
        "\n",
        "**Result:**\n",
        "- The default XGBoost Regressor performes worse than the prediction with lagged values."
      ],
      "metadata": {
        "id": "O-TvFiRYDeg3"
      }
    },
    {
      "cell_type": "markdown",
      "metadata": {
        "id": "dj_biAwwMJe9"
      },
      "source": [
        "---\n",
        "---\n",
        "## **LightGBM Regressor**"
      ]
    },
    {
      "cell_type": "markdown",
      "source": [
        "In the next step, a LightGBM Regressor is tested on the data."
      ],
      "metadata": {
        "id": "VRrQ8oWnD0gy"
      }
    },
    {
      "cell_type": "markdown",
      "source": [
        "---\n",
        "### Implementation"
      ],
      "metadata": {
        "id": "RcxD4xx1TNjC"
      }
    },
    {
      "cell_type": "code",
      "execution_count": null,
      "metadata": {
        "colab": {
          "base_uri": "https://localhost:8080/"
        },
        "id": "eA_oCbO5MLcn",
        "outputId": "1276b334-cb23-46f3-d180-4862a98ae49e"
      },
      "outputs": [
        {
          "output_type": "stream",
          "name": "stdout",
          "text": [
            "[LightGBM] [Info] Auto-choosing row-wise multi-threading, the overhead of testing was 0.041838 seconds.\n",
            "You can set `force_row_wise=true` to remove the overhead.\n",
            "And if memory is not enough, you can set `force_col_wise=true`.\n",
            "[LightGBM] [Info] Total Bins 183\n",
            "[LightGBM] [Info] Number of data points in the train set: 3499173, number of used features: 8\n",
            "[LightGBM] [Info] Start training from score 1306.152717\n"
          ]
        },
        {
          "output_type": "execute_result",
          "data": {
            "text/plain": [
              "LGBMRegressor(seed=42)"
            ],
            "text/html": [
              "<style>#sk-container-id-2 {color: black;background-color: white;}#sk-container-id-2 pre{padding: 0;}#sk-container-id-2 div.sk-toggleable {background-color: white;}#sk-container-id-2 label.sk-toggleable__label {cursor: pointer;display: block;width: 100%;margin-bottom: 0;padding: 0.3em;box-sizing: border-box;text-align: center;}#sk-container-id-2 label.sk-toggleable__label-arrow:before {content: \"▸\";float: left;margin-right: 0.25em;color: #696969;}#sk-container-id-2 label.sk-toggleable__label-arrow:hover:before {color: black;}#sk-container-id-2 div.sk-estimator:hover label.sk-toggleable__label-arrow:before {color: black;}#sk-container-id-2 div.sk-toggleable__content {max-height: 0;max-width: 0;overflow: hidden;text-align: left;background-color: #f0f8ff;}#sk-container-id-2 div.sk-toggleable__content pre {margin: 0.2em;color: black;border-radius: 0.25em;background-color: #f0f8ff;}#sk-container-id-2 input.sk-toggleable__control:checked~div.sk-toggleable__content {max-height: 200px;max-width: 100%;overflow: auto;}#sk-container-id-2 input.sk-toggleable__control:checked~label.sk-toggleable__label-arrow:before {content: \"▾\";}#sk-container-id-2 div.sk-estimator input.sk-toggleable__control:checked~label.sk-toggleable__label {background-color: #d4ebff;}#sk-container-id-2 div.sk-label input.sk-toggleable__control:checked~label.sk-toggleable__label {background-color: #d4ebff;}#sk-container-id-2 input.sk-hidden--visually {border: 0;clip: rect(1px 1px 1px 1px);clip: rect(1px, 1px, 1px, 1px);height: 1px;margin: -1px;overflow: hidden;padding: 0;position: absolute;width: 1px;}#sk-container-id-2 div.sk-estimator {font-family: monospace;background-color: #f0f8ff;border: 1px dotted black;border-radius: 0.25em;box-sizing: border-box;margin-bottom: 0.5em;}#sk-container-id-2 div.sk-estimator:hover {background-color: #d4ebff;}#sk-container-id-2 div.sk-parallel-item::after {content: \"\";width: 100%;border-bottom: 1px solid gray;flex-grow: 1;}#sk-container-id-2 div.sk-label:hover label.sk-toggleable__label {background-color: #d4ebff;}#sk-container-id-2 div.sk-serial::before {content: \"\";position: absolute;border-left: 1px solid gray;box-sizing: border-box;top: 0;bottom: 0;left: 50%;z-index: 0;}#sk-container-id-2 div.sk-serial {display: flex;flex-direction: column;align-items: center;background-color: white;padding-right: 0.2em;padding-left: 0.2em;position: relative;}#sk-container-id-2 div.sk-item {position: relative;z-index: 1;}#sk-container-id-2 div.sk-parallel {display: flex;align-items: stretch;justify-content: center;background-color: white;position: relative;}#sk-container-id-2 div.sk-item::before, #sk-container-id-2 div.sk-parallel-item::before {content: \"\";position: absolute;border-left: 1px solid gray;box-sizing: border-box;top: 0;bottom: 0;left: 50%;z-index: -1;}#sk-container-id-2 div.sk-parallel-item {display: flex;flex-direction: column;z-index: 1;position: relative;background-color: white;}#sk-container-id-2 div.sk-parallel-item:first-child::after {align-self: flex-end;width: 50%;}#sk-container-id-2 div.sk-parallel-item:last-child::after {align-self: flex-start;width: 50%;}#sk-container-id-2 div.sk-parallel-item:only-child::after {width: 0;}#sk-container-id-2 div.sk-dashed-wrapped {border: 1px dashed gray;margin: 0 0.4em 0.5em 0.4em;box-sizing: border-box;padding-bottom: 0.4em;background-color: white;}#sk-container-id-2 div.sk-label label {font-family: monospace;font-weight: bold;display: inline-block;line-height: 1.2em;}#sk-container-id-2 div.sk-label-container {text-align: center;}#sk-container-id-2 div.sk-container {/* jupyter's `normalize.less` sets `[hidden] { display: none; }` but bootstrap.min.css set `[hidden] { display: none !important; }` so we also need the `!important` here to be able to override the default hidden behavior on the sphinx rendered scikit-learn.org. See: https://github.com/scikit-learn/scikit-learn/issues/21755 */display: inline-block !important;position: relative;}#sk-container-id-2 div.sk-text-repr-fallback {display: none;}</style><div id=\"sk-container-id-2\" class=\"sk-top-container\"><div class=\"sk-text-repr-fallback\"><pre>LGBMRegressor(seed=42)</pre><b>In a Jupyter environment, please rerun this cell to show the HTML representation or trust the notebook. <br />On GitHub, the HTML representation is unable to render, please try loading this page with nbviewer.org.</b></div><div class=\"sk-container\" hidden><div class=\"sk-item\"><div class=\"sk-estimator sk-toggleable\"><input class=\"sk-toggleable__control sk-hidden--visually\" id=\"sk-estimator-id-2\" type=\"checkbox\" checked><label for=\"sk-estimator-id-2\" class=\"sk-toggleable__label sk-toggleable__label-arrow\">LGBMRegressor</label><div class=\"sk-toggleable__content\"><pre>LGBMRegressor(seed=42)</pre></div></div></div></div></div>"
            ]
          },
          "metadata": {},
          "execution_count": 99
        }
      ],
      "source": [
        "# defining model with random seed 42\n",
        "lgbm_model = LGBMRegressor(seed=42)\n",
        "# train model\n",
        "lgbm_model.fit(X_train, y_train)"
      ]
    },
    {
      "cell_type": "markdown",
      "source": [
        "---\n",
        "### Evaluation"
      ],
      "metadata": {
        "id": "QRiuQBJvTo_7"
      }
    },
    {
      "cell_type": "code",
      "execution_count": null,
      "metadata": {
        "id": "zRslXL5GMsNO"
      },
      "outputs": [],
      "source": [
        "# make prediction\n",
        "lgbm_pred = lgbm_model.predict(X_test)"
      ]
    },
    {
      "cell_type": "code",
      "execution_count": null,
      "metadata": {
        "id": "odl4sjDs6C7O"
      },
      "outputs": [],
      "source": [
        "# Berechnen der verschiedenen Metriken\n",
        "mse = mean_squared_error(y_test, lgbm_pred)\n",
        "mae = mean_absolute_error(y_test, lgbm_pred)\n",
        "r2 = r2_score(y_test, lgbm_pred)\n",
        "explained_variance = explained_variance_score(y_test, lgbm_pred)"
      ]
    },
    {
      "cell_type": "code",
      "execution_count": null,
      "metadata": {
        "id": "jW12HzqW6C7O"
      },
      "outputs": [],
      "source": [
        "# defining model characteristics\n",
        "model_name = \"LightGBM_default\"\n",
        "features = X.columns.tolist()\n",
        "target = y.name\n",
        "\n",
        "eval_lgbm = create_evaluation_df(model_name=model_name, target=target, features=features, mse=mse, mae=mae, r2=r2, explained_variance=explained_variance)"
      ]
    },
    {
      "cell_type": "code",
      "execution_count": null,
      "metadata": {
        "id": "lPVG2PzF6UlY"
      },
      "outputs": [],
      "source": [
        "eval_df = pd.concat([eval_df, eval_lgbm], ignore_index=True)"
      ]
    },
    {
      "cell_type": "code",
      "execution_count": null,
      "metadata": {
        "colab": {
          "base_uri": "https://localhost:8080/"
        },
        "id": "Np4UVtTd6C7O",
        "outputId": "d295f455-433a-4ee2-9bf0-f5f608a2d892"
      },
      "outputs": [
        {
          "output_type": "execute_result",
          "data": {
            "text/plain": [
              "<pandas.io.formats.style.Styler at 0x7acf7c1dfdf0>"
            ],
            "text/html": [
              "<style type=\"text/css\">\n",
              "</style>\n",
              "<table id=\"T_3045a\" class=\"dataframe\">\n",
              "  <thead>\n",
              "    <tr>\n",
              "      <th class=\"blank level0\" >&nbsp;</th>\n",
              "      <th id=\"T_3045a_level0_col0\" class=\"col_heading level0 col0\" >modelname</th>\n",
              "      <th id=\"T_3045a_level0_col1\" class=\"col_heading level0 col1\" >target</th>\n",
              "      <th id=\"T_3045a_level0_col2\" class=\"col_heading level0 col2\" >features</th>\n",
              "      <th id=\"T_3045a_level0_col3\" class=\"col_heading level0 col3\" >mse</th>\n",
              "      <th id=\"T_3045a_level0_col4\" class=\"col_heading level0 col4\" >mae</th>\n",
              "      <th id=\"T_3045a_level0_col5\" class=\"col_heading level0 col5\" >r2</th>\n",
              "      <th id=\"T_3045a_level0_col6\" class=\"col_heading level0 col6\" >explained_variance</th>\n",
              "    </tr>\n",
              "  </thead>\n",
              "  <tbody>\n",
              "    <tr>\n",
              "      <th id=\"T_3045a_level0_row0\" class=\"row_heading level0 row0\" >0</th>\n",
              "      <td id=\"T_3045a_row0_col0\" class=\"data row0 col0\" >baseline_model</td>\n",
              "      <td id=\"T_3045a_row0_col1\" class=\"data row0 col1\" >concurrent_sessions</td>\n",
              "      <td id=\"T_3045a_row0_col2\" class=\"data row0 col2\" >concurrent_sessions_7D</td>\n",
              "      <td id=\"T_3045a_row0_col3\" class=\"data row0 col3\" >3099.132959</td>\n",
              "      <td id=\"T_3045a_row0_col4\" class=\"data row0 col4\" >37.412436</td>\n",
              "      <td id=\"T_3045a_row0_col5\" class=\"data row0 col5\" >0.975018</td>\n",
              "      <td id=\"T_3045a_row0_col6\" class=\"data row0 col6\" >0.975988</td>\n",
              "    </tr>\n",
              "    <tr>\n",
              "      <th id=\"T_3045a_level0_row1\" class=\"row_heading level0 row1\" >1</th>\n",
              "      <td id=\"T_3045a_row1_col0\" class=\"data row1 col0\" >XGBoost_default</td>\n",
              "      <td id=\"T_3045a_row1_col1\" class=\"data row1 col1\" >concurrent_sessions</td>\n",
              "      <td id=\"T_3045a_row1_col2\" class=\"data row1 col2\" >['year', 'month', 'week', 'hour', 'minute', 'second', 'day_week', 'day_month', 'daytime']</td>\n",
              "      <td id=\"T_3045a_row1_col3\" class=\"data row1 col3\" >3206.561853</td>\n",
              "      <td id=\"T_3045a_row1_col4\" class=\"data row1 col4\" >38.182828</td>\n",
              "      <td id=\"T_3045a_row1_col5\" class=\"data row1 col5\" >0.974152</td>\n",
              "      <td id=\"T_3045a_row1_col6\" class=\"data row1 col6\" >0.974425</td>\n",
              "    </tr>\n",
              "    <tr>\n",
              "      <th id=\"T_3045a_level0_row2\" class=\"row_heading level0 row2\" >2</th>\n",
              "      <td id=\"T_3045a_row2_col0\" class=\"data row2 col0\" >LightGBM_default</td>\n",
              "      <td id=\"T_3045a_row2_col1\" class=\"data row2 col1\" >concurrent_sessions</td>\n",
              "      <td id=\"T_3045a_row2_col2\" class=\"data row2 col2\" >['year', 'month', 'week', 'hour', 'minute', 'second', 'day_week', 'day_month', 'daytime']</td>\n",
              "      <td id=\"T_3045a_row2_col3\" class=\"data row2 col3\" >2816.081302</td>\n",
              "      <td id=\"T_3045a_row2_col4\" class=\"data row2 col4\" >34.944549</td>\n",
              "      <td id=\"T_3045a_row2_col5\" class=\"data row2 col5\" >0.977300</td>\n",
              "      <td id=\"T_3045a_row2_col6\" class=\"data row2 col6\" >0.977752</td>\n",
              "    </tr>\n",
              "  </tbody>\n",
              "</table>\n"
            ]
          },
          "metadata": {},
          "execution_count": 104
        }
      ],
      "source": [
        "eval_df.style"
      ]
    },
    {
      "cell_type": "markdown",
      "source": [
        "**Model Name: `LightGBM_default`**\n",
        "\n",
        "**Metrics**\n",
        "- **Mean Squared Error (MSE): `2816.081302`**\n",
        "    - An MSE of 2816.08 indicates that, on average, the squared difference between the predicted and actual concurrent sessions is 2816.08. This value is used to assess the overall accuracy of the model, with lower values indicating better performance.\n",
        "\n",
        "- **Mean Absolute Error (MAE): `34.944549`**\n",
        "    - An MAE of 34.94 means that, on average, the model’s predictions are off by about 34.94 sessions. This metric provides a straightforward interpretation of prediction accuracy, with lower values indicating better performance.\n",
        "\n",
        "- **R-Squared (R²): `0.977300`**\n",
        "    - An R² value of 0.977300 indicates that approximately 97.7% of the variance in the number of concurrent sessions can be explained by the model. This is a high value, suggesting that the model fits the data very well.\n",
        "\n",
        "- **Explained Variance: `0.977752`**\n",
        "    - An explained variance of 0.977752 means that the model accounts for about 97.8% of the variance in concurrent sessions, which further confirms the model's strong predictive power.\n",
        "\n",
        "**Result:**\n",
        "- The LightGBM Regressor performs slightly better than the baseline model."
      ],
      "metadata": {
        "id": "wWElD2y6EROJ"
      }
    },
    {
      "cell_type": "markdown",
      "metadata": {
        "id": "FMhPRKEPNgkv"
      },
      "source": [
        "---\n",
        "---\n",
        "## **Hyperparameter Tuning**"
      ]
    },
    {
      "cell_type": "markdown",
      "source": [
        "After we experimented with lagged values, a XGBoost and a LightGBM Regressor, now the both regressors hyperparameter are fine tuned."
      ],
      "metadata": {
        "id": "ZEy4dX6VD8bg"
      }
    },
    {
      "cell_type": "code",
      "source": [
        "# Define the inner cross-validation strategy using TimeSeriesSplit with 5 splits\n",
        "inner_cv = TimeSeriesSplit(n_splits=5)\n",
        "\n",
        "# Define the outer cross-validation strategy using TimeSeriesSplit with 5 splits\n",
        "outer_cv = TimeSeriesSplit(n_splits=5)"
      ],
      "metadata": {
        "id": "XO98N2xAeMKC"
      },
      "execution_count": null,
      "outputs": []
    },
    {
      "cell_type": "code",
      "execution_count": null,
      "metadata": {
        "id": "2illrP4nK72a"
      },
      "outputs": [],
      "source": [
        "# Define the parameter grid for hyperparameter tuning\n",
        "param_grid = {\n",
        "    'learning_rate': [0.05, 0.1, 0.25, 0.35],  # Learning rates to be tested\n",
        "    'max_depth': [0, 1, 5, 10],                # Maximum depth of the trees to be tested\n",
        "    'n_estimators': [25, 50, 75, 100]          # Number of trees in the ensemble to be tested\n",
        "}"
      ]
    },
    {
      "cell_type": "markdown",
      "source": [
        "The hyperparameter that get tuned are\n",
        "- learning rate\n",
        "- max depth\n",
        "- number of estimators"
      ],
      "metadata": {
        "id": "q6gFqEqqE8Cn"
      }
    },
    {
      "cell_type": "markdown",
      "metadata": {
        "id": "BAnYftw0OO4a"
      },
      "source": [
        "---\n",
        "### XGBoost Regressor"
      ]
    },
    {
      "cell_type": "markdown",
      "source": [
        "Tuning XGBoost Regressor"
      ],
      "metadata": {
        "id": "8FDxLy7PIZOu"
      }
    },
    {
      "cell_type": "code",
      "source": [
        "# Set up GridSearchCV for the inner cross-validation\n",
        "grid_search = GridSearchCV(\n",
        "    estimator=XGBRegressor(seed=42, device='gpu'),  # Use XGBRegressor with a fixed seed and GPU support\n",
        "    param_grid=param_grid,  # Use the predefined parameter grid\n",
        "    cv=inner_cv,            # Use TimeSeriesSplit for inner cross-validation\n",
        "    n_jobs=-1,              # Use all available processors for parallel processing\n",
        "    verbose=2               # Set verbosity level to 2 for detailed output during training\n",
        ")\n",
        "\n",
        "# Perform nested cross-validation\n",
        "nested_score = cross_val_score(\n",
        "    grid_search,                     # Use the grid search estimator\n",
        "    X=X_train,                       # Training features\n",
        "    y=y_train,                       # Training target\n",
        "    cv=outer_cv,                     # Use TimeSeriesSplit for outer cross-validation\n",
        "    scoring='neg_mean_squared_error', # Use negative mean squared error as the scoring metric\n",
        "    n_jobs=-1                        # Use all available processors for parallel processing\n",
        ")"
      ],
      "metadata": {
        "id": "tsDYPhbFgHPH"
      },
      "execution_count": null,
      "outputs": []
    },
    {
      "cell_type": "code",
      "execution_count": null,
      "metadata": {
        "colab": {
          "base_uri": "https://localhost:8080/"
        },
        "id": "_v8d6cIeo8UE",
        "outputId": "d0751a2c-36d5-4243-87be-cc116f4fb0fe"
      },
      "outputs": [
        {
          "output_type": "stream",
          "name": "stdout",
          "text": [
            "Fitting 5 folds for each of 64 candidates, totalling 320 fits\n"
          ]
        }
      ],
      "source": [
        "# Train the best model using GridSearchCV\n",
        "grid_search.fit(X_train, y_train)  # Fit the grid search to the training data\n",
        "\n",
        "# Retrieve the best estimator (model) from the grid search\n",
        "xgb_model_opt = grid_search.best_estimator_"
      ]
    },
    {
      "cell_type": "code",
      "source": [
        "# Best parameter\n",
        "print(\"Beste Parameter: \", grid_search.best_params_)"
      ],
      "metadata": {
        "id": "U9ceuFszovNu",
        "colab": {
          "base_uri": "https://localhost:8080/"
        },
        "outputId": "0d176077-01a6-486d-98c3-9e1d404d185b"
      },
      "execution_count": null,
      "outputs": [
        {
          "output_type": "stream",
          "name": "stdout",
          "text": [
            "Beste Parameter:  {'learning_rate': 0.25, 'max_depth': 5, 'n_estimators': 25}\n"
          ]
        }
      ]
    },
    {
      "cell_type": "code",
      "execution_count": null,
      "metadata": {
        "id": "LgEtTLN-OJex"
      },
      "outputs": [],
      "source": [
        "# prediction based on tuned model\n",
        "xgb_pred_opt = xgb_model_opt.predict(X_test)"
      ]
    },
    {
      "cell_type": "code",
      "execution_count": null,
      "metadata": {
        "id": "SSoWDmky87i4"
      },
      "outputs": [],
      "source": [
        "# metrics\n",
        "mse = mean_squared_error(y_test, xgb_pred_opt)\n",
        "mae = mean_absolute_error(y_test, xgb_pred_opt)\n",
        "r2 = r2_score(y_test, xgb_pred_opt)\n",
        "explained_variance = explained_variance_score(y_test, xgb_pred_opt)"
      ]
    },
    {
      "cell_type": "code",
      "execution_count": null,
      "metadata": {
        "id": "eyo5SgPQ87i5"
      },
      "outputs": [],
      "source": [
        "# model characteristics\n",
        "model_name = \"XGBoost_optimized\"\n",
        "features = X.columns.tolist()\n",
        "target = y.name\n",
        "\n",
        "eval_xgb_opt = create_evaluation_df(model_name=model_name, target=target, features=features, mse=mse, mae=mae, r2=r2, explained_variance=explained_variance)"
      ]
    },
    {
      "cell_type": "code",
      "execution_count": null,
      "metadata": {
        "id": "3p9pVD7v87i5"
      },
      "outputs": [],
      "source": [
        "eval_df = pd.concat([eval_df, eval_xgb_opt], ignore_index=True)"
      ]
    },
    {
      "cell_type": "code",
      "execution_count": null,
      "metadata": {
        "colab": {
          "base_uri": "https://localhost:8080/",
          "height": 227
        },
        "id": "edBHDlA_87i5",
        "outputId": "3fc73450-078f-4960-9c7b-d8dce0c23f42"
      },
      "outputs": [
        {
          "output_type": "execute_result",
          "data": {
            "text/plain": [
              "<pandas.io.formats.style.Styler at 0x7acf7c1bbdc0>"
            ],
            "text/html": [
              "<style type=\"text/css\">\n",
              "</style>\n",
              "<table id=\"T_437c6\" class=\"dataframe\">\n",
              "  <thead>\n",
              "    <tr>\n",
              "      <th class=\"blank level0\" >&nbsp;</th>\n",
              "      <th id=\"T_437c6_level0_col0\" class=\"col_heading level0 col0\" >modelname</th>\n",
              "      <th id=\"T_437c6_level0_col1\" class=\"col_heading level0 col1\" >target</th>\n",
              "      <th id=\"T_437c6_level0_col2\" class=\"col_heading level0 col2\" >features</th>\n",
              "      <th id=\"T_437c6_level0_col3\" class=\"col_heading level0 col3\" >mse</th>\n",
              "      <th id=\"T_437c6_level0_col4\" class=\"col_heading level0 col4\" >mae</th>\n",
              "      <th id=\"T_437c6_level0_col5\" class=\"col_heading level0 col5\" >r2</th>\n",
              "      <th id=\"T_437c6_level0_col6\" class=\"col_heading level0 col6\" >explained_variance</th>\n",
              "    </tr>\n",
              "  </thead>\n",
              "  <tbody>\n",
              "    <tr>\n",
              "      <th id=\"T_437c6_level0_row0\" class=\"row_heading level0 row0\" >0</th>\n",
              "      <td id=\"T_437c6_row0_col0\" class=\"data row0 col0\" >baseline_model</td>\n",
              "      <td id=\"T_437c6_row0_col1\" class=\"data row0 col1\" >concurrent_sessions</td>\n",
              "      <td id=\"T_437c6_row0_col2\" class=\"data row0 col2\" >concurrent_sessions_7D</td>\n",
              "      <td id=\"T_437c6_row0_col3\" class=\"data row0 col3\" >3099.132959</td>\n",
              "      <td id=\"T_437c6_row0_col4\" class=\"data row0 col4\" >37.412436</td>\n",
              "      <td id=\"T_437c6_row0_col5\" class=\"data row0 col5\" >0.975018</td>\n",
              "      <td id=\"T_437c6_row0_col6\" class=\"data row0 col6\" >0.975988</td>\n",
              "    </tr>\n",
              "    <tr>\n",
              "      <th id=\"T_437c6_level0_row1\" class=\"row_heading level0 row1\" >1</th>\n",
              "      <td id=\"T_437c6_row1_col0\" class=\"data row1 col0\" >XGBoost_default</td>\n",
              "      <td id=\"T_437c6_row1_col1\" class=\"data row1 col1\" >concurrent_sessions</td>\n",
              "      <td id=\"T_437c6_row1_col2\" class=\"data row1 col2\" >['year', 'month', 'week', 'hour', 'minute', 'second', 'day_week', 'day_month', 'daytime']</td>\n",
              "      <td id=\"T_437c6_row1_col3\" class=\"data row1 col3\" >3206.561853</td>\n",
              "      <td id=\"T_437c6_row1_col4\" class=\"data row1 col4\" >38.182828</td>\n",
              "      <td id=\"T_437c6_row1_col5\" class=\"data row1 col5\" >0.974152</td>\n",
              "      <td id=\"T_437c6_row1_col6\" class=\"data row1 col6\" >0.974425</td>\n",
              "    </tr>\n",
              "    <tr>\n",
              "      <th id=\"T_437c6_level0_row2\" class=\"row_heading level0 row2\" >2</th>\n",
              "      <td id=\"T_437c6_row2_col0\" class=\"data row2 col0\" >LightGBM_default</td>\n",
              "      <td id=\"T_437c6_row2_col1\" class=\"data row2 col1\" >concurrent_sessions</td>\n",
              "      <td id=\"T_437c6_row2_col2\" class=\"data row2 col2\" >['year', 'month', 'week', 'hour', 'minute', 'second', 'day_week', 'day_month', 'daytime']</td>\n",
              "      <td id=\"T_437c6_row2_col3\" class=\"data row2 col3\" >2816.081302</td>\n",
              "      <td id=\"T_437c6_row2_col4\" class=\"data row2 col4\" >34.944549</td>\n",
              "      <td id=\"T_437c6_row2_col5\" class=\"data row2 col5\" >0.977300</td>\n",
              "      <td id=\"T_437c6_row2_col6\" class=\"data row2 col6\" >0.977752</td>\n",
              "    </tr>\n",
              "    <tr>\n",
              "      <th id=\"T_437c6_level0_row3\" class=\"row_heading level0 row3\" >3</th>\n",
              "      <td id=\"T_437c6_row3_col0\" class=\"data row3 col0\" >XGBoost_optimized</td>\n",
              "      <td id=\"T_437c6_row3_col1\" class=\"data row3 col1\" >concurrent_sessions</td>\n",
              "      <td id=\"T_437c6_row3_col2\" class=\"data row3 col2\" >['year', 'month', 'week', 'hour', 'minute', 'second', 'day_week', 'day_month', 'daytime']</td>\n",
              "      <td id=\"T_437c6_row3_col3\" class=\"data row3 col3\" >2622.032948</td>\n",
              "      <td id=\"T_437c6_row3_col4\" class=\"data row3 col4\" >34.342699</td>\n",
              "      <td id=\"T_437c6_row3_col5\" class=\"data row3 col5\" >0.978864</td>\n",
              "      <td id=\"T_437c6_row3_col6\" class=\"data row3 col6\" >0.978941</td>\n",
              "    </tr>\n",
              "  </tbody>\n",
              "</table>\n"
            ]
          },
          "metadata": {},
          "execution_count": 115
        }
      ],
      "source": [
        "eval_df.style"
      ]
    },
    {
      "cell_type": "markdown",
      "source": [
        "**Model Name: `XGBoost_optimized`**\n",
        "\n",
        "**Metrics**\n",
        "- **Mean Squared Error (MSE): `2622.032948`**\n",
        "    - An MSE of 2622.03 indicates that, on average, the squared difference between the predicted and actual concurrent sessions is 2622.03. This value is used to assess the overall accuracy of the model, with lower values indicating better performance.\n",
        "\n",
        "- **Mean Absolute Error (MAE): `34.342699`**\n",
        "    - An MAE of 34.34 means that, on average, the model’s predictions are off by about 34.34 sessions. This metric provides a straightforward interpretation of prediction accuracy, with lower values indicating better performance.\n",
        "\n",
        "- **R-Squared (R²): `0.978864`**\n",
        "    - An R² value of 0.978864 indicates that approximately 97.9% of the variance in the number of concurrent sessions can be explained by the model. This is a high value, suggesting that the model fits the data very well.\n",
        "\n",
        "- **Explained Variance: `0.978941`**\n",
        "    - An explained variance of 0.978941 means that the model accounts for about 97.9% of the variance in concurrent sessions, which further confirms the model's strong predictive power.\n",
        "\n",
        "**Results:**\n",
        "- The XGBoost Model with hyperparameter tuning is the best model so far."
      ],
      "metadata": {
        "id": "cWcOXEUOIDUn"
      }
    },
    {
      "cell_type": "markdown",
      "metadata": {
        "id": "1lNHdfLqOQsD"
      },
      "source": [
        "---\n",
        "### LightGBM Regressor"
      ]
    },
    {
      "cell_type": "markdown",
      "source": [
        "Tuning LightGBM Regressor"
      ],
      "metadata": {
        "id": "pw412r62IcSK"
      }
    },
    {
      "cell_type": "code",
      "source": [
        "# Set up GridSearchCV for the inner cross-validation using LGBMRegressor\n",
        "grid_search = GridSearchCV(\n",
        "    estimator=LGBMRegressor(seed=42),  # Use LGBMRegressor with a fixed seed\n",
        "    param_grid=param_grid,             # Use the predefined parameter grid\n",
        "    cv=inner_cv,                       # Use TimeSeriesSplit for inner cross-validation\n",
        "    n_jobs=-1,                         # Use all available processors for parallel processing\n",
        "    verbose=2                          # Set verbosity level to 2 for detailed output during training\n",
        ")\n",
        "\n",
        "# Perform nested cross-validation\n",
        "nested_score = cross_val_score(\n",
        "    grid_search,                     # Use the grid search estimator\n",
        "    X=X_train,                       # Training features\n",
        "    y=y_train,                       # Training target\n",
        "    cv=outer_cv,                     # Use TimeSeriesSplit for outer cross-validation\n",
        "    scoring='neg_mean_squared_error', # Use negative mean squared error as the scoring metric\n",
        "    n_jobs=-1                        # Use all available processors for parallel processing\n",
        ")"
      ],
      "metadata": {
        "id": "GwoMHeDwoMHi"
      },
      "execution_count": null,
      "outputs": []
    },
    {
      "cell_type": "code",
      "source": [
        "# Train the best model using GridSearchCV\n",
        "grid_search.fit(X_train, y_train)\n",
        "\n",
        "# Retrieve the best estimator (model) from the grid search\n",
        "lgbm_model_opt = grid_search.best_estimator_"
      ],
      "metadata": {
        "id": "oHswya1_oPhp",
        "colab": {
          "base_uri": "https://localhost:8080/"
        },
        "outputId": "caaf58d2-2351-4528-8282-fd0c255be894"
      },
      "execution_count": null,
      "outputs": [
        {
          "output_type": "stream",
          "name": "stdout",
          "text": [
            "Fitting 5 folds for each of 64 candidates, totalling 320 fits\n",
            "[LightGBM] [Warning] Accuracy may be bad since you didn't explicitly set num_leaves OR 2^max_depth > num_leaves. (num_leaves=31).\n",
            "[LightGBM] [Warning] Accuracy may be bad since you didn't explicitly set num_leaves OR 2^max_depth > num_leaves. (num_leaves=31).\n",
            "[LightGBM] [Info] Auto-choosing row-wise multi-threading, the overhead of testing was 0.031230 seconds.\n",
            "You can set `force_row_wise=true` to remove the overhead.\n",
            "And if memory is not enough, you can set `force_col_wise=true`.\n",
            "[LightGBM] [Info] Total Bins 183\n",
            "[LightGBM] [Info] Number of data points in the train set: 3499173, number of used features: 8\n",
            "[LightGBM] [Info] Start training from score 1306.152717\n"
          ]
        }
      ]
    },
    {
      "cell_type": "code",
      "source": [
        "# Best parameter\n",
        "print(\"Beste Parameter: \", grid_search.best_params_)"
      ],
      "metadata": {
        "id": "z2Lm6ReKorHC",
        "colab": {
          "base_uri": "https://localhost:8080/"
        },
        "outputId": "b28dcf3a-6031-4949-cd78-4ad8bef20eb4"
      },
      "execution_count": null,
      "outputs": [
        {
          "output_type": "stream",
          "name": "stdout",
          "text": [
            "Beste Parameter:  {'learning_rate': 0.1, 'max_depth': 5, 'n_estimators': 75}\n"
          ]
        }
      ]
    },
    {
      "cell_type": "code",
      "execution_count": null,
      "metadata": {
        "id": "ROHy2nylObm1",
        "colab": {
          "base_uri": "https://localhost:8080/"
        },
        "outputId": "b634f79b-5692-4425-be49-62571b74c938"
      },
      "outputs": [
        {
          "output_type": "stream",
          "name": "stdout",
          "text": [
            "[LightGBM] [Warning] Accuracy may be bad since you didn't explicitly set num_leaves OR 2^max_depth > num_leaves. (num_leaves=31).\n"
          ]
        }
      ],
      "source": [
        "lgbm_pred_opt = lgbm_model_opt.predict(X_test)"
      ]
    },
    {
      "cell_type": "code",
      "execution_count": null,
      "metadata": {
        "id": "HCDtyJcSa5dj"
      },
      "outputs": [],
      "source": [
        "# metrics\n",
        "mse = mean_squared_error(y_test, lgbm_pred_opt)\n",
        "mae = mean_absolute_error(y_test, lgbm_pred_opt)\n",
        "r2 = r2_score(y_test, lgbm_pred_opt)\n",
        "explained_variance = explained_variance_score(y_test, lgbm_pred_opt)"
      ]
    },
    {
      "cell_type": "code",
      "execution_count": null,
      "metadata": {
        "id": "7J0roU1Ia5dj"
      },
      "outputs": [],
      "source": [
        "# model evaluation\n",
        "model_name = \"LightGBM_optimized\"\n",
        "features = X.columns.tolist()\n",
        "target = y.name\n",
        "\n",
        "eval_lgbm_opt = create_evaluation_df(model_name=model_name, target=target, features=features, mse=mse, mae=mae, r2=r2, explained_variance=explained_variance)"
      ]
    },
    {
      "cell_type": "code",
      "execution_count": null,
      "metadata": {
        "id": "oq6DyoYEa5dj"
      },
      "outputs": [],
      "source": [
        "eval_df = pd.concat([eval_df, eval_lgbm_opt], ignore_index=True)"
      ]
    },
    {
      "cell_type": "code",
      "execution_count": null,
      "metadata": {
        "colab": {
          "base_uri": "https://localhost:8080/",
          "height": 276
        },
        "id": "ZEWYC5jLa5dk",
        "outputId": "4d3235e9-83af-4dca-d4a9-dd3da873c5ed"
      },
      "outputs": [
        {
          "output_type": "execute_result",
          "data": {
            "text/plain": [
              "<pandas.io.formats.style.Styler at 0x7acee20e2e90>"
            ],
            "text/html": [
              "<style type=\"text/css\">\n",
              "</style>\n",
              "<table id=\"T_5f4a7\" class=\"dataframe\">\n",
              "  <thead>\n",
              "    <tr>\n",
              "      <th class=\"blank level0\" >&nbsp;</th>\n",
              "      <th id=\"T_5f4a7_level0_col0\" class=\"col_heading level0 col0\" >modelname</th>\n",
              "      <th id=\"T_5f4a7_level0_col1\" class=\"col_heading level0 col1\" >target</th>\n",
              "      <th id=\"T_5f4a7_level0_col2\" class=\"col_heading level0 col2\" >features</th>\n",
              "      <th id=\"T_5f4a7_level0_col3\" class=\"col_heading level0 col3\" >mse</th>\n",
              "      <th id=\"T_5f4a7_level0_col4\" class=\"col_heading level0 col4\" >mae</th>\n",
              "      <th id=\"T_5f4a7_level0_col5\" class=\"col_heading level0 col5\" >r2</th>\n",
              "      <th id=\"T_5f4a7_level0_col6\" class=\"col_heading level0 col6\" >explained_variance</th>\n",
              "    </tr>\n",
              "  </thead>\n",
              "  <tbody>\n",
              "    <tr>\n",
              "      <th id=\"T_5f4a7_level0_row0\" class=\"row_heading level0 row0\" >0</th>\n",
              "      <td id=\"T_5f4a7_row0_col0\" class=\"data row0 col0\" >baseline_model</td>\n",
              "      <td id=\"T_5f4a7_row0_col1\" class=\"data row0 col1\" >concurrent_sessions</td>\n",
              "      <td id=\"T_5f4a7_row0_col2\" class=\"data row0 col2\" >concurrent_sessions_7D</td>\n",
              "      <td id=\"T_5f4a7_row0_col3\" class=\"data row0 col3\" >3099.132959</td>\n",
              "      <td id=\"T_5f4a7_row0_col4\" class=\"data row0 col4\" >37.412436</td>\n",
              "      <td id=\"T_5f4a7_row0_col5\" class=\"data row0 col5\" >0.975018</td>\n",
              "      <td id=\"T_5f4a7_row0_col6\" class=\"data row0 col6\" >0.975988</td>\n",
              "    </tr>\n",
              "    <tr>\n",
              "      <th id=\"T_5f4a7_level0_row1\" class=\"row_heading level0 row1\" >1</th>\n",
              "      <td id=\"T_5f4a7_row1_col0\" class=\"data row1 col0\" >XGBoost_default</td>\n",
              "      <td id=\"T_5f4a7_row1_col1\" class=\"data row1 col1\" >concurrent_sessions</td>\n",
              "      <td id=\"T_5f4a7_row1_col2\" class=\"data row1 col2\" >['year', 'month', 'week', 'hour', 'minute', 'second', 'day_week', 'day_month', 'daytime']</td>\n",
              "      <td id=\"T_5f4a7_row1_col3\" class=\"data row1 col3\" >3206.561853</td>\n",
              "      <td id=\"T_5f4a7_row1_col4\" class=\"data row1 col4\" >38.182828</td>\n",
              "      <td id=\"T_5f4a7_row1_col5\" class=\"data row1 col5\" >0.974152</td>\n",
              "      <td id=\"T_5f4a7_row1_col6\" class=\"data row1 col6\" >0.974425</td>\n",
              "    </tr>\n",
              "    <tr>\n",
              "      <th id=\"T_5f4a7_level0_row2\" class=\"row_heading level0 row2\" >2</th>\n",
              "      <td id=\"T_5f4a7_row2_col0\" class=\"data row2 col0\" >LightGBM_default</td>\n",
              "      <td id=\"T_5f4a7_row2_col1\" class=\"data row2 col1\" >concurrent_sessions</td>\n",
              "      <td id=\"T_5f4a7_row2_col2\" class=\"data row2 col2\" >['year', 'month', 'week', 'hour', 'minute', 'second', 'day_week', 'day_month', 'daytime']</td>\n",
              "      <td id=\"T_5f4a7_row2_col3\" class=\"data row2 col3\" >2816.081302</td>\n",
              "      <td id=\"T_5f4a7_row2_col4\" class=\"data row2 col4\" >34.944549</td>\n",
              "      <td id=\"T_5f4a7_row2_col5\" class=\"data row2 col5\" >0.977300</td>\n",
              "      <td id=\"T_5f4a7_row2_col6\" class=\"data row2 col6\" >0.977752</td>\n",
              "    </tr>\n",
              "    <tr>\n",
              "      <th id=\"T_5f4a7_level0_row3\" class=\"row_heading level0 row3\" >3</th>\n",
              "      <td id=\"T_5f4a7_row3_col0\" class=\"data row3 col0\" >XGBoost_optimized</td>\n",
              "      <td id=\"T_5f4a7_row3_col1\" class=\"data row3 col1\" >concurrent_sessions</td>\n",
              "      <td id=\"T_5f4a7_row3_col2\" class=\"data row3 col2\" >['year', 'month', 'week', 'hour', 'minute', 'second', 'day_week', 'day_month', 'daytime']</td>\n",
              "      <td id=\"T_5f4a7_row3_col3\" class=\"data row3 col3\" >2622.032948</td>\n",
              "      <td id=\"T_5f4a7_row3_col4\" class=\"data row3 col4\" >34.342699</td>\n",
              "      <td id=\"T_5f4a7_row3_col5\" class=\"data row3 col5\" >0.978864</td>\n",
              "      <td id=\"T_5f4a7_row3_col6\" class=\"data row3 col6\" >0.978941</td>\n",
              "    </tr>\n",
              "    <tr>\n",
              "      <th id=\"T_5f4a7_level0_row4\" class=\"row_heading level0 row4\" >4</th>\n",
              "      <td id=\"T_5f4a7_row4_col0\" class=\"data row4 col0\" >LightGBM_optimized</td>\n",
              "      <td id=\"T_5f4a7_row4_col1\" class=\"data row4 col1\" >concurrent_sessions</td>\n",
              "      <td id=\"T_5f4a7_row4_col2\" class=\"data row4 col2\" >['year', 'month', 'week', 'hour', 'minute', 'second', 'day_week', 'day_month', 'daytime']</td>\n",
              "      <td id=\"T_5f4a7_row4_col3\" class=\"data row4 col3\" >2656.385965</td>\n",
              "      <td id=\"T_5f4a7_row4_col4\" class=\"data row4 col4\" >34.765620</td>\n",
              "      <td id=\"T_5f4a7_row4_col5\" class=\"data row4 col5\" >0.978587</td>\n",
              "      <td id=\"T_5f4a7_row4_col6\" class=\"data row4 col6\" >0.979073</td>\n",
              "    </tr>\n",
              "  </tbody>\n",
              "</table>\n"
            ]
          },
          "metadata": {},
          "execution_count": 124
        }
      ],
      "source": [
        "eval_df.style"
      ]
    },
    {
      "cell_type": "markdown",
      "source": [
        "**Model Name: `LightGBM_optimized`**\n",
        "\n",
        "**Metrics**\n",
        "- **Mean Squared Error (MSE): `2656.385965`**\n",
        "    - An MSE of 2656.39 indicates that, on average, the squared difference between the predicted and actual concurrent sessions is 2656.39. This value is used to assess the overall accuracy of the model, with lower values indicating better performance.\n",
        "\n",
        "- **Mean Absolute Error (MAE): `34.765620`**\n",
        "    - An MAE of 34.77 means that, on average, the model’s predictions are off by about 34.77 sessions. This metric provides a straightforward interpretation of prediction accuracy, with lower values indicating better performance.\n",
        "\n",
        "- **R-Squared (R²): `0.978587`**\n",
        "    - An R² value of 0.978587 indicates that approximately 97.9% of the variance in the number of concurrent sessions can be explained by the model. This is a high value, suggesting that the model fits the data very well.\n",
        "\n",
        "- **Explained Variance: `0.979073`**\n",
        "    - An explained variance of 0.979073 means that the model accounts for about 97.9% of the variance in concurrent sessions, which further confirms the model's strong predictive power.\n",
        "\n",
        "**Results:**\n",
        "- The LightGBM Regressor Model with hyperparameter tuning performs better than the baseline and the default models. It performs not as good as the tuned XGBoost Regressor Model."
      ],
      "metadata": {
        "id": "VLLDczROJx-U"
      }
    },
    {
      "cell_type": "markdown",
      "source": [
        "---\n",
        "---\n",
        "# **Summary of Model Results**"
      ],
      "metadata": {
        "id": "p8TsKE3yUDLN"
      }
    },
    {
      "cell_type": "code",
      "execution_count": null,
      "metadata": {
        "colab": {
          "base_uri": "https://localhost:8080/",
          "height": 578
        },
        "id": "LS-kkL-DlL2G",
        "outputId": "d733baf3-3d1c-4fcc-abad-6e0d38a89ceb"
      },
      "outputs": [
        {
          "output_type": "display_data",
          "data": {
            "text/plain": [
              "<Figure size 2000x1000 with 1 Axes>"
            ],
            "image/png": "[encoded data removed]"
          },
          "metadata": {}
        }
      ],
      "source": [
        "# Create a graph to compare the XGBoost and LightGBM forecasts to the actual values\n",
        "\n",
        "# Create a new figure with a specified size\n",
        "plt.figure(figsize=(20, 10))\n",
        "\n",
        "# Plot the actual test data values\n",
        "plt.plot(list(y_test))\n",
        "\n",
        "# Plot the predicted values from the optimized XGBoost model\n",
        "plt.plot(list(xgb_pred_opt))\n",
        "\n",
        "# Plot the predicted values from the optimized LightGBM model\n",
        "plt.plot(list(lgbm_pred_opt))\n",
        "\n",
        "# Add a legend to the plot for clarity\n",
        "plt.legend(['actual', 'xgb forecast', 'lgbm forecast'])\n",
        "\n",
        "# Label the y-axis\n",
        "plt.ylabel('Concurrent User')\n",
        "\n",
        "# Label the x-axis\n",
        "plt.xlabel('Steps in test data')\n",
        "\n",
        "# Display the plot\n",
        "plt.show()\n"
      ]
    },
    {
      "cell_type": "markdown",
      "source": [
        "This summary presents the performance metrics of five different models developed to predict concurrent sessions. Each model is evaluated based on Mean Squared Error (MSE), Mean Absolute Error (MAE), R-Squared (R²), and Explained Variance. Below is a detailed comparison of these models:\n",
        "\n",
        "1. **baseline_model**\n",
        "   - **Features**: concurrent_sessions_7D\n",
        "   - **MSE**: 3099.132959\n",
        "   - **MAE**: 37.412436\n",
        "   - **R²**: 0.975018\n",
        "   - **Explained Variance**: 0.975988\n",
        "\n",
        "2. **XGBoost_default**\n",
        "   - **Features**: ['year', 'month', 'week', 'hour', 'minute', 'second', 'day_week', 'day_month', 'daytime']\n",
        "   - **MSE**: 3206.561853\n",
        "   - **MAE**: 38.182828\n",
        "   - **R²**: 0.974152\n",
        "   - **Explained Variance**: 0.974425\n",
        "\n",
        "3. **LightGBM_default**\n",
        "   - **Features**: ['year', 'month', 'week', 'hour', 'minute', 'second', 'day_week', 'day_month', 'daytime']\n",
        "   - **MSE**: 2816.081302\n",
        "   - **MAE**: 34.944549\n",
        "   - **R²**: 0.977300\n",
        "   - **Explained Variance**: 0.977752\n",
        "\n",
        "4. **XGBoost_optimized**\n",
        "   - **Features**: ['year', 'month', 'week', 'hour', 'minute', 'second', 'day_week', 'day_month', 'daytime']\n",
        "   - **MSE**: 2622.032948\n",
        "   - **MAE**: 34.342699\n",
        "   - **R²**: 0.978864\n",
        "   - **Explained Variance**: 0.978941\n",
        "\n",
        "5. **LightGBM_optimized**\n",
        "   - **Features**: ['year', 'month', 'week', 'hour', 'minute', 'second', 'day_week', 'day_month', 'daytime']\n",
        "   - **MSE**: 2656.385965\n",
        "   - **MAE**: 34.765620\n",
        "   - **R²**: 0.978587\n",
        "   - **Explained Variance**: 0.979073\n",
        "\n",
        "### **Key Observations:**\n",
        "- **Best Performing Model**: The **XGBoost_optimized** model demonstrated the best performance with the lowest MSE (2622.03) and the highest R² (0.978864), indicating the highest accuracy and best fit to the data.\n",
        "- **Baseline Comparison**: The baseline model, which uses only the last seven days of concurrent sessions as features, performed well with an MSE of 3099.13 and R² of 0.975018. However, it was outperformed by the optimized models.\n",
        "- **Impact of Optimization**: Both optimized models (XGBoost and LightGBM) showed significant improvement over their default counterparts. The XGBoost_optimized model had a lower MSE and higher R² compared to the XGBoost_default model. Similarly, the LightGBM_optimized model improved upon the LightGBM_default model.\n",
        "- **Feature Rich Models**: Models using a broad range of temporal features (year, month, week, hour, minute, second, day of the week, day of the month, and daytime) generally performed better than the baseline model, suggesting that incorporating these features helps in better capturing the patterns in the data.\n",
        "\n",
        "In conclusion, the XGBoost_optimized model provides the most accurate predictions for concurrent sessions, followed closely by the LightGBM_optimized model. Both these models benefit from the optimization process and the inclusion of a wide array of temporal features."
      ],
      "metadata": {
        "id": "5CVTa4wqLMkq"
      }
    },
    {
      "cell_type": "markdown",
      "source": [
        "---\n",
        "---\n",
        "---"
      ],
      "metadata": {
        "id": "jk9toacnUO7V"
      }
    }
  ],
  "metadata": {
    "colab": {
      "machine_shape": "hm",
      "provenance": [],
      "gpuType": "T4",
      "toc_visible": true,
      "mount_file_id": "1v8_xubK5EG7Gbtvyv9H9BXjhtXZXBsWJ",
      "authorship_tag": "ABX9TyO+fs6hRoXqpMKUH/M3B8SA",
      "include_colab_link": true
    },
    "kernelspec": {
      "display_name": "Python 3",
      "name": "python3"
    },
    "language_info": {
      "name": "python"
    },
    "accelerator": "GPU"
  },
  "nbformat": 4,
  "nbformat_minor": 0
}